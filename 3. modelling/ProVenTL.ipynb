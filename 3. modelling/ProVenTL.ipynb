{
 "cells": [
  {
   "cell_type": "code",
   "execution_count": 1,
   "id": "a56172ba-a90e-4da0-8761-1f28eda556bb",
   "metadata": {},
   "outputs": [
    {
     "name": "stderr",
     "output_type": "stream",
     "text": [
      "2025-06-04 20:43:02.677975: E external/local_xla/xla/stream_executor/cuda/cuda_fft.cc:485] Unable to register cuFFT factory: Attempting to register factory for plugin cuFFT when one has already been registered\n",
      "2025-06-04 20:43:02.688314: E external/local_xla/xla/stream_executor/cuda/cuda_dnn.cc:8454] Unable to register cuDNN factory: Attempting to register factory for plugin cuDNN when one has already been registered\n",
      "2025-06-04 20:43:02.691449: E external/local_xla/xla/stream_executor/cuda/cuda_blas.cc:1452] Unable to register cuBLAS factory: Attempting to register factory for plugin cuBLAS when one has already been registered\n",
      "2025-06-04 20:43:02.699693: I tensorflow/core/platform/cpu_feature_guard.cc:210] This TensorFlow binary is optimized to use available CPU instructions in performance-critical operations.\n",
      "To enable the following instructions: AVX2 FMA, in other operations, rebuild TensorFlow with the appropriate compiler flags.\n",
      "2025-06-04 20:43:03.206117: W tensorflow/compiler/tf2tensorrt/utils/py_utils.cc:38] TF-TRT Warning: Could not find TensorRT\n"
     ]
    }
   ],
   "source": [
    "import pandas as pd\n",
    "import numpy as np\n",
    "from sklearn.model_selection import train_test_split, KFold\n",
    "from sklearn.preprocessing import MinMaxScaler\n",
    "from joblib import dump\n",
    "from sklearn.metrics import accuracy_score, roc_auc_score, precision_recall_fscore_support\n",
    "from tensorflow.keras.models import Model\n",
    "from tensorflow.keras.layers import Input, Dense, Dropout, BatchNormalization\n",
    "from tensorflow.keras.callbacks import EarlyStopping, ModelCheckpoint\n",
    "from tensorflow.keras.optimizers import Adam\n",
    "import os"
   ]
  },
  {
   "cell_type": "code",
   "execution_count": 2,
   "id": "634ebd72-d3f1-4cb9-b584-45fbfb8b5cc7",
   "metadata": {},
   "outputs": [
    {
     "name": "stdout",
     "output_type": "stream",
     "text": [
      "GPU tersedia: [PhysicalDevice(name='/physical_device:GPU:0', device_type='GPU')]\n"
     ]
    },
    {
     "name": "stderr",
     "output_type": "stream",
     "text": [
      "WARNING: All log messages before absl::InitializeLog() is called are written to STDERR\n",
      "I0000 00:00:1749044597.551004  398599 cuda_executor.cc:1015] successful NUMA node read from SysFS had negative value (-1), but there must be at least one NUMA node, so returning NUMA node zero. See more at https://github.com/torvalds/linux/blob/v6.0/Documentation/ABI/testing/sysfs-bus-pci#L344-L355\n",
      "I0000 00:00:1749044597.599813  398599 cuda_executor.cc:1015] successful NUMA node read from SysFS had negative value (-1), but there must be at least one NUMA node, so returning NUMA node zero. See more at https://github.com/torvalds/linux/blob/v6.0/Documentation/ABI/testing/sysfs-bus-pci#L344-L355\n",
      "I0000 00:00:1749044597.604019  398599 cuda_executor.cc:1015] successful NUMA node read from SysFS had negative value (-1), but there must be at least one NUMA node, so returning NUMA node zero. See more at https://github.com/torvalds/linux/blob/v6.0/Documentation/ABI/testing/sysfs-bus-pci#L344-L355\n"
     ]
    }
   ],
   "source": [
    "# 1. Inisialisasi dan Import Library\n",
    "import tensorflow as tf\n",
    "physical_devices = tf.config.list_physical_devices('GPU')\n",
    "if physical_devices:\n",
    "    print(\"GPU tersedia:\", physical_devices)\n",
    "    for device in physical_devices:\n",
    "        tf.config.experimental.set_memory_growth(device, True)\n",
    "else:\n",
    "    print(\"GPU tidak tersedia, menggunakan CPU\")"
   ]
  },
  {
   "cell_type": "code",
   "execution_count": 3,
   "id": "a507b949-4703-471b-8817-e9314b2691fa",
   "metadata": {},
   "outputs": [
    {
     "data": {
      "text/html": [
       "<div>\n",
       "<style scoped>\n",
       "    .dataframe tbody tr th:only-of-type {\n",
       "        vertical-align: middle;\n",
       "    }\n",
       "\n",
       "    .dataframe tbody tr th {\n",
       "        vertical-align: top;\n",
       "    }\n",
       "\n",
       "    .dataframe thead th {\n",
       "        text-align: right;\n",
       "    }\n",
       "</style>\n",
       "<table border=\"1\" class=\"dataframe\">\n",
       "  <thead>\n",
       "    <tr style=\"text-align: right;\">\n",
       "      <th></th>\n",
       "      <th>pdb_id</th>\n",
       "      <th>Uniprot_id</th>\n",
       "      <th>inter_res</th>\n",
       "      <th>pep_seq</th>\n",
       "      <th>prot_seq</th>\n",
       "      <th>pep_embed_0</th>\n",
       "      <th>pep_embed_1</th>\n",
       "      <th>pep_embed_2</th>\n",
       "      <th>pep_embed_3</th>\n",
       "      <th>pep_embed_4</th>\n",
       "      <th>...</th>\n",
       "      <th>prot_embed_1014</th>\n",
       "      <th>prot_embed_1015</th>\n",
       "      <th>prot_embed_1016</th>\n",
       "      <th>prot_embed_1017</th>\n",
       "      <th>prot_embed_1018</th>\n",
       "      <th>prot_embed_1019</th>\n",
       "      <th>prot_embed_1020</th>\n",
       "      <th>prot_embed_1021</th>\n",
       "      <th>prot_embed_1022</th>\n",
       "      <th>prot_embed_1023</th>\n",
       "    </tr>\n",
       "  </thead>\n",
       "  <tbody>\n",
       "    <tr>\n",
       "      <th>0</th>\n",
       "      <td>1a0n</td>\n",
       "      <td>P06241</td>\n",
       "      <td>1</td>\n",
       "      <td>PPRPLPVAPGSSKT</td>\n",
       "      <td>MGCVQCKDKEATKLTEERDGSLNQSSGYRYGTDPTPQHYPSFGVTS...</td>\n",
       "      <td>0.030033</td>\n",
       "      <td>-0.100224</td>\n",
       "      <td>0.079272</td>\n",
       "      <td>0.227686</td>\n",
       "      <td>-0.079435</td>\n",
       "      <td>...</td>\n",
       "      <td>-0.083720</td>\n",
       "      <td>0.027851</td>\n",
       "      <td>-0.063560</td>\n",
       "      <td>-0.056856</td>\n",
       "      <td>0.227259</td>\n",
       "      <td>-0.024167</td>\n",
       "      <td>-0.018593</td>\n",
       "      <td>0.004605</td>\n",
       "      <td>-0.111024</td>\n",
       "      <td>-0.023716</td>\n",
       "    </tr>\n",
       "    <tr>\n",
       "      <th>1</th>\n",
       "      <td>1a1m</td>\n",
       "      <td>P01889</td>\n",
       "      <td>1</td>\n",
       "      <td>TPYDINQML</td>\n",
       "      <td>MLVMAPRTVLLLLSAALALTETWAGSHSMRYFYTSVSRPGRGEPRF...</td>\n",
       "      <td>0.038422</td>\n",
       "      <td>-0.160526</td>\n",
       "      <td>0.090410</td>\n",
       "      <td>0.389460</td>\n",
       "      <td>-0.191433</td>\n",
       "      <td>...</td>\n",
       "      <td>-0.194320</td>\n",
       "      <td>0.281502</td>\n",
       "      <td>0.077305</td>\n",
       "      <td>0.006572</td>\n",
       "      <td>0.128127</td>\n",
       "      <td>-0.117371</td>\n",
       "      <td>-0.196142</td>\n",
       "      <td>-0.134186</td>\n",
       "      <td>0.034336</td>\n",
       "      <td>0.244518</td>\n",
       "    </tr>\n",
       "    <tr>\n",
       "      <th>2</th>\n",
       "      <td>1a1n</td>\n",
       "      <td>P01889</td>\n",
       "      <td>1</td>\n",
       "      <td>VPLRPMTY</td>\n",
       "      <td>MLVMAPRTVLLLLSAALALTETWAGSHSMRYFYTSVSRPGRGEPRF...</td>\n",
       "      <td>-0.086734</td>\n",
       "      <td>-0.043309</td>\n",
       "      <td>0.225117</td>\n",
       "      <td>0.375819</td>\n",
       "      <td>-0.259559</td>\n",
       "      <td>...</td>\n",
       "      <td>-0.194320</td>\n",
       "      <td>0.281502</td>\n",
       "      <td>0.077305</td>\n",
       "      <td>0.006572</td>\n",
       "      <td>0.128127</td>\n",
       "      <td>-0.117371</td>\n",
       "      <td>-0.196142</td>\n",
       "      <td>-0.134186</td>\n",
       "      <td>0.034336</td>\n",
       "      <td>0.244518</td>\n",
       "    </tr>\n",
       "    <tr>\n",
       "      <th>3</th>\n",
       "      <td>1a1o</td>\n",
       "      <td>P01889</td>\n",
       "      <td>1</td>\n",
       "      <td>KPIVQYDNF</td>\n",
       "      <td>MLVMAPRTVLLLLSAALALTETWAGSHSMRYFYTSVSRPGRGEPRF...</td>\n",
       "      <td>-0.092968</td>\n",
       "      <td>-0.132457</td>\n",
       "      <td>0.107277</td>\n",
       "      <td>0.409582</td>\n",
       "      <td>-0.231267</td>\n",
       "      <td>...</td>\n",
       "      <td>-0.194320</td>\n",
       "      <td>0.281502</td>\n",
       "      <td>0.077305</td>\n",
       "      <td>0.006572</td>\n",
       "      <td>0.128127</td>\n",
       "      <td>-0.117371</td>\n",
       "      <td>-0.196142</td>\n",
       "      <td>-0.134186</td>\n",
       "      <td>0.034336</td>\n",
       "      <td>0.244518</td>\n",
       "    </tr>\n",
       "    <tr>\n",
       "      <th>4</th>\n",
       "      <td>1a6a</td>\n",
       "      <td>P01903</td>\n",
       "      <td>1</td>\n",
       "      <td>PVSKMRMATPLLMQA</td>\n",
       "      <td>MAISGVPVLGFFIIAVLMSAQESWAIKEEHVIIQAEFYLNPDQSGE...</td>\n",
       "      <td>0.156240</td>\n",
       "      <td>-0.147064</td>\n",
       "      <td>0.019275</td>\n",
       "      <td>0.213881</td>\n",
       "      <td>-0.166329</td>\n",
       "      <td>...</td>\n",
       "      <td>0.011935</td>\n",
       "      <td>0.071232</td>\n",
       "      <td>0.088962</td>\n",
       "      <td>-0.083966</td>\n",
       "      <td>0.262632</td>\n",
       "      <td>-0.018609</td>\n",
       "      <td>-0.064899</td>\n",
       "      <td>0.034401</td>\n",
       "      <td>-0.062924</td>\n",
       "      <td>0.120452</td>\n",
       "    </tr>\n",
       "    <tr>\n",
       "      <th>...</th>\n",
       "      <td>...</td>\n",
       "      <td>...</td>\n",
       "      <td>...</td>\n",
       "      <td>...</td>\n",
       "      <td>...</td>\n",
       "      <td>...</td>\n",
       "      <td>...</td>\n",
       "      <td>...</td>\n",
       "      <td>...</td>\n",
       "      <td>...</td>\n",
       "      <td>...</td>\n",
       "      <td>...</td>\n",
       "      <td>...</td>\n",
       "      <td>...</td>\n",
       "      <td>...</td>\n",
       "      <td>...</td>\n",
       "      <td>...</td>\n",
       "      <td>...</td>\n",
       "      <td>...</td>\n",
       "      <td>...</td>\n",
       "      <td>...</td>\n",
       "    </tr>\n",
       "    <tr>\n",
       "      <th>6935</th>\n",
       "      <td>6mbb</td>\n",
       "      <td>P98082</td>\n",
       "      <td>0</td>\n",
       "      <td>XSYVDKIADVMREVAEKINSDLTX</td>\n",
       "      <td>MSNEVETSATNGQPDQQAAPKAPSKKEKKKGPEKTDEYLLARFKGD...</td>\n",
       "      <td>-0.059110</td>\n",
       "      <td>-0.083165</td>\n",
       "      <td>0.183766</td>\n",
       "      <td>0.145360</td>\n",
       "      <td>0.036866</td>\n",
       "      <td>...</td>\n",
       "      <td>-0.078282</td>\n",
       "      <td>0.042036</td>\n",
       "      <td>-0.040217</td>\n",
       "      <td>-0.068417</td>\n",
       "      <td>-0.000791</td>\n",
       "      <td>0.002601</td>\n",
       "      <td>0.034282</td>\n",
       "      <td>-0.022770</td>\n",
       "      <td>-0.104830</td>\n",
       "      <td>0.013526</td>\n",
       "    </tr>\n",
       "    <tr>\n",
       "      <th>6936</th>\n",
       "      <td>7ea1</td>\n",
       "      <td>O75460</td>\n",
       "      <td>0</td>\n",
       "      <td>VRKKRGRPMTKN</td>\n",
       "      <td>MPARRLLLLLTLLLPGLGIFGSTSTVTLPETLLFVSTLDGSLHAVS...</td>\n",
       "      <td>-0.036435</td>\n",
       "      <td>-0.113985</td>\n",
       "      <td>0.128920</td>\n",
       "      <td>0.385201</td>\n",
       "      <td>-0.109813</td>\n",
       "      <td>...</td>\n",
       "      <td>-0.097484</td>\n",
       "      <td>0.029577</td>\n",
       "      <td>0.006169</td>\n",
       "      <td>-0.072095</td>\n",
       "      <td>0.166441</td>\n",
       "      <td>-0.003235</td>\n",
       "      <td>-0.063718</td>\n",
       "      <td>-0.008959</td>\n",
       "      <td>-0.022081</td>\n",
       "      <td>0.050536</td>\n",
       "    </tr>\n",
       "    <tr>\n",
       "      <th>6937</th>\n",
       "      <td>4tt4</td>\n",
       "      <td>Q9Y5X1</td>\n",
       "      <td>0</td>\n",
       "      <td>STGGK</td>\n",
       "      <td>MATKARVMYDFAAEPGNNELTVNEGEIITITNPDVGGGWLEGRNIK...</td>\n",
       "      <td>0.079227</td>\n",
       "      <td>-0.146251</td>\n",
       "      <td>0.024335</td>\n",
       "      <td>0.228890</td>\n",
       "      <td>-0.132565</td>\n",
       "      <td>...</td>\n",
       "      <td>-0.087645</td>\n",
       "      <td>0.008434</td>\n",
       "      <td>-0.055064</td>\n",
       "      <td>0.066216</td>\n",
       "      <td>0.078507</td>\n",
       "      <td>-0.005525</td>\n",
       "      <td>-0.040667</td>\n",
       "      <td>-0.089019</td>\n",
       "      <td>-0.077078</td>\n",
       "      <td>0.110110</td>\n",
       "    </tr>\n",
       "    <tr>\n",
       "      <th>6938</th>\n",
       "      <td>1m5n</td>\n",
       "      <td>P27540</td>\n",
       "      <td>0</td>\n",
       "      <td>YLTQETNKVETYKEQPLKTPGKKKKGKP</td>\n",
       "      <td>MAATTANPEMTSDVPSLGPAIASGNSGPGIQGGGAIVQRAIKRRPG...</td>\n",
       "      <td>-0.001495</td>\n",
       "      <td>-0.054208</td>\n",
       "      <td>0.077558</td>\n",
       "      <td>0.174969</td>\n",
       "      <td>-0.092030</td>\n",
       "      <td>...</td>\n",
       "      <td>-0.010359</td>\n",
       "      <td>0.025456</td>\n",
       "      <td>-0.054832</td>\n",
       "      <td>-0.031399</td>\n",
       "      <td>0.072385</td>\n",
       "      <td>-0.092137</td>\n",
       "      <td>0.029638</td>\n",
       "      <td>-0.096959</td>\n",
       "      <td>-0.091742</td>\n",
       "      <td>0.015780</td>\n",
       "    </tr>\n",
       "    <tr>\n",
       "      <th>6939</th>\n",
       "      <td>7k29</td>\n",
       "      <td>P00519</td>\n",
       "      <td>0</td>\n",
       "      <td>XLDEETGEALX</td>\n",
       "      <td>MLEICLKLVGCKSKKGLSSSSSCYLEEALQRPVASDFEPQGLSEAA...</td>\n",
       "      <td>-0.054643</td>\n",
       "      <td>-0.175325</td>\n",
       "      <td>0.053173</td>\n",
       "      <td>0.197588</td>\n",
       "      <td>-0.051226</td>\n",
       "      <td>...</td>\n",
       "      <td>-0.002740</td>\n",
       "      <td>0.035654</td>\n",
       "      <td>-0.072946</td>\n",
       "      <td>-0.083784</td>\n",
       "      <td>0.063789</td>\n",
       "      <td>0.033380</td>\n",
       "      <td>0.020439</td>\n",
       "      <td>-0.012894</td>\n",
       "      <td>-0.000050</td>\n",
       "      <td>0.019683</td>\n",
       "    </tr>\n",
       "  </tbody>\n",
       "</table>\n",
       "<p>6940 rows × 2053 columns</p>\n",
       "</div>"
      ],
      "text/plain": [
       "     pdb_id Uniprot_id  inter_res                       pep_seq  \\\n",
       "0      1a0n     P06241          1                PPRPLPVAPGSSKT   \n",
       "1      1a1m     P01889          1                     TPYDINQML   \n",
       "2      1a1n     P01889          1                      VPLRPMTY   \n",
       "3      1a1o     P01889          1                     KPIVQYDNF   \n",
       "4      1a6a     P01903          1               PVSKMRMATPLLMQA   \n",
       "...     ...        ...        ...                           ...   \n",
       "6935   6mbb     P98082          0      XSYVDKIADVMREVAEKINSDLTX   \n",
       "6936   7ea1     O75460          0                  VRKKRGRPMTKN   \n",
       "6937   4tt4     Q9Y5X1          0                         STGGK   \n",
       "6938   1m5n     P27540          0  YLTQETNKVETYKEQPLKTPGKKKKGKP   \n",
       "6939   7k29     P00519          0                   XLDEETGEALX   \n",
       "\n",
       "                                               prot_seq  pep_embed_0  \\\n",
       "0     MGCVQCKDKEATKLTEERDGSLNQSSGYRYGTDPTPQHYPSFGVTS...     0.030033   \n",
       "1     MLVMAPRTVLLLLSAALALTETWAGSHSMRYFYTSVSRPGRGEPRF...     0.038422   \n",
       "2     MLVMAPRTVLLLLSAALALTETWAGSHSMRYFYTSVSRPGRGEPRF...    -0.086734   \n",
       "3     MLVMAPRTVLLLLSAALALTETWAGSHSMRYFYTSVSRPGRGEPRF...    -0.092968   \n",
       "4     MAISGVPVLGFFIIAVLMSAQESWAIKEEHVIIQAEFYLNPDQSGE...     0.156240   \n",
       "...                                                 ...          ...   \n",
       "6935  MSNEVETSATNGQPDQQAAPKAPSKKEKKKGPEKTDEYLLARFKGD...    -0.059110   \n",
       "6936  MPARRLLLLLTLLLPGLGIFGSTSTVTLPETLLFVSTLDGSLHAVS...    -0.036435   \n",
       "6937  MATKARVMYDFAAEPGNNELTVNEGEIITITNPDVGGGWLEGRNIK...     0.079227   \n",
       "6938  MAATTANPEMTSDVPSLGPAIASGNSGPGIQGGGAIVQRAIKRRPG...    -0.001495   \n",
       "6939  MLEICLKLVGCKSKKGLSSSSSCYLEEALQRPVASDFEPQGLSEAA...    -0.054643   \n",
       "\n",
       "      pep_embed_1  pep_embed_2  pep_embed_3  pep_embed_4  ...  \\\n",
       "0       -0.100224     0.079272     0.227686    -0.079435  ...   \n",
       "1       -0.160526     0.090410     0.389460    -0.191433  ...   \n",
       "2       -0.043309     0.225117     0.375819    -0.259559  ...   \n",
       "3       -0.132457     0.107277     0.409582    -0.231267  ...   \n",
       "4       -0.147064     0.019275     0.213881    -0.166329  ...   \n",
       "...           ...          ...          ...          ...  ...   \n",
       "6935    -0.083165     0.183766     0.145360     0.036866  ...   \n",
       "6936    -0.113985     0.128920     0.385201    -0.109813  ...   \n",
       "6937    -0.146251     0.024335     0.228890    -0.132565  ...   \n",
       "6938    -0.054208     0.077558     0.174969    -0.092030  ...   \n",
       "6939    -0.175325     0.053173     0.197588    -0.051226  ...   \n",
       "\n",
       "      prot_embed_1014  prot_embed_1015  prot_embed_1016  prot_embed_1017  \\\n",
       "0           -0.083720         0.027851        -0.063560        -0.056856   \n",
       "1           -0.194320         0.281502         0.077305         0.006572   \n",
       "2           -0.194320         0.281502         0.077305         0.006572   \n",
       "3           -0.194320         0.281502         0.077305         0.006572   \n",
       "4            0.011935         0.071232         0.088962        -0.083966   \n",
       "...               ...              ...              ...              ...   \n",
       "6935        -0.078282         0.042036        -0.040217        -0.068417   \n",
       "6936        -0.097484         0.029577         0.006169        -0.072095   \n",
       "6937        -0.087645         0.008434        -0.055064         0.066216   \n",
       "6938        -0.010359         0.025456        -0.054832        -0.031399   \n",
       "6939        -0.002740         0.035654        -0.072946        -0.083784   \n",
       "\n",
       "      prot_embed_1018  prot_embed_1019  prot_embed_1020  prot_embed_1021  \\\n",
       "0            0.227259        -0.024167        -0.018593         0.004605   \n",
       "1            0.128127        -0.117371        -0.196142        -0.134186   \n",
       "2            0.128127        -0.117371        -0.196142        -0.134186   \n",
       "3            0.128127        -0.117371        -0.196142        -0.134186   \n",
       "4            0.262632        -0.018609        -0.064899         0.034401   \n",
       "...               ...              ...              ...              ...   \n",
       "6935        -0.000791         0.002601         0.034282        -0.022770   \n",
       "6936         0.166441        -0.003235        -0.063718        -0.008959   \n",
       "6937         0.078507        -0.005525        -0.040667        -0.089019   \n",
       "6938         0.072385        -0.092137         0.029638        -0.096959   \n",
       "6939         0.063789         0.033380         0.020439        -0.012894   \n",
       "\n",
       "      prot_embed_1022  prot_embed_1023  \n",
       "0           -0.111024        -0.023716  \n",
       "1            0.034336         0.244518  \n",
       "2            0.034336         0.244518  \n",
       "3            0.034336         0.244518  \n",
       "4           -0.062924         0.120452  \n",
       "...               ...              ...  \n",
       "6935        -0.104830         0.013526  \n",
       "6936        -0.022081         0.050536  \n",
       "6937        -0.077078         0.110110  \n",
       "6938        -0.091742         0.015780  \n",
       "6939        -0.000050         0.019683  \n",
       "\n",
       "[6940 rows x 2053 columns]"
      ]
     },
     "execution_count": 3,
     "metadata": {},
     "output_type": "execute_result"
    }
   ],
   "source": [
    "file_path = '/home/g6523023/eksperimenprot5/PepPi_full_interaction_1to1_ProtT5.csv'\n",
    "data = pd.read_csv(file_path)\n",
    "data"
   ]
  },
  {
   "cell_type": "code",
   "execution_count": 4,
   "id": "cf9cda6f-3cfb-4946-a11d-0ec72394553e",
   "metadata": {},
   "outputs": [],
   "source": [
    "X = data.drop(['pdb_id', 'Uniprot_id', 'inter_res', 'pep_seq', 'prot_seq'], axis=1)\n",
    "Y = data['inter_res']"
   ]
  },
  {
   "cell_type": "code",
   "execution_count": 5,
   "id": "8b44ee6b-e30e-45b3-b192-faace6800667",
   "metadata": {},
   "outputs": [
    {
     "data": {
      "text/html": [
       "<div>\n",
       "<style scoped>\n",
       "    .dataframe tbody tr th:only-of-type {\n",
       "        vertical-align: middle;\n",
       "    }\n",
       "\n",
       "    .dataframe tbody tr th {\n",
       "        vertical-align: top;\n",
       "    }\n",
       "\n",
       "    .dataframe thead th {\n",
       "        text-align: right;\n",
       "    }\n",
       "</style>\n",
       "<table border=\"1\" class=\"dataframe\">\n",
       "  <thead>\n",
       "    <tr style=\"text-align: right;\">\n",
       "      <th></th>\n",
       "      <th>pep_embed_0</th>\n",
       "      <th>pep_embed_1</th>\n",
       "      <th>pep_embed_2</th>\n",
       "      <th>pep_embed_3</th>\n",
       "      <th>pep_embed_4</th>\n",
       "      <th>pep_embed_5</th>\n",
       "      <th>pep_embed_6</th>\n",
       "      <th>pep_embed_7</th>\n",
       "      <th>pep_embed_8</th>\n",
       "      <th>pep_embed_9</th>\n",
       "      <th>...</th>\n",
       "      <th>prot_embed_1014</th>\n",
       "      <th>prot_embed_1015</th>\n",
       "      <th>prot_embed_1016</th>\n",
       "      <th>prot_embed_1017</th>\n",
       "      <th>prot_embed_1018</th>\n",
       "      <th>prot_embed_1019</th>\n",
       "      <th>prot_embed_1020</th>\n",
       "      <th>prot_embed_1021</th>\n",
       "      <th>prot_embed_1022</th>\n",
       "      <th>prot_embed_1023</th>\n",
       "    </tr>\n",
       "  </thead>\n",
       "  <tbody>\n",
       "    <tr>\n",
       "      <th>0</th>\n",
       "      <td>0.030033</td>\n",
       "      <td>-0.100224</td>\n",
       "      <td>0.079272</td>\n",
       "      <td>0.227686</td>\n",
       "      <td>-0.079435</td>\n",
       "      <td>0.039185</td>\n",
       "      <td>-0.292841</td>\n",
       "      <td>-0.230378</td>\n",
       "      <td>-0.196702</td>\n",
       "      <td>-0.083397</td>\n",
       "      <td>...</td>\n",
       "      <td>-0.083720</td>\n",
       "      <td>0.027851</td>\n",
       "      <td>-0.063560</td>\n",
       "      <td>-0.056856</td>\n",
       "      <td>0.227259</td>\n",
       "      <td>-0.024167</td>\n",
       "      <td>-0.018593</td>\n",
       "      <td>0.004605</td>\n",
       "      <td>-0.111024</td>\n",
       "      <td>-0.023716</td>\n",
       "    </tr>\n",
       "    <tr>\n",
       "      <th>1</th>\n",
       "      <td>0.038422</td>\n",
       "      <td>-0.160526</td>\n",
       "      <td>0.090410</td>\n",
       "      <td>0.389460</td>\n",
       "      <td>-0.191433</td>\n",
       "      <td>-0.107539</td>\n",
       "      <td>-0.167799</td>\n",
       "      <td>-0.287230</td>\n",
       "      <td>-0.119073</td>\n",
       "      <td>-0.325324</td>\n",
       "      <td>...</td>\n",
       "      <td>-0.194320</td>\n",
       "      <td>0.281502</td>\n",
       "      <td>0.077305</td>\n",
       "      <td>0.006572</td>\n",
       "      <td>0.128127</td>\n",
       "      <td>-0.117371</td>\n",
       "      <td>-0.196142</td>\n",
       "      <td>-0.134186</td>\n",
       "      <td>0.034336</td>\n",
       "      <td>0.244518</td>\n",
       "    </tr>\n",
       "    <tr>\n",
       "      <th>2</th>\n",
       "      <td>-0.086734</td>\n",
       "      <td>-0.043309</td>\n",
       "      <td>0.225117</td>\n",
       "      <td>0.375819</td>\n",
       "      <td>-0.259559</td>\n",
       "      <td>-0.067419</td>\n",
       "      <td>-0.255602</td>\n",
       "      <td>-0.368272</td>\n",
       "      <td>-0.146283</td>\n",
       "      <td>-0.341365</td>\n",
       "      <td>...</td>\n",
       "      <td>-0.194320</td>\n",
       "      <td>0.281502</td>\n",
       "      <td>0.077305</td>\n",
       "      <td>0.006572</td>\n",
       "      <td>0.128127</td>\n",
       "      <td>-0.117371</td>\n",
       "      <td>-0.196142</td>\n",
       "      <td>-0.134186</td>\n",
       "      <td>0.034336</td>\n",
       "      <td>0.244518</td>\n",
       "    </tr>\n",
       "    <tr>\n",
       "      <th>3</th>\n",
       "      <td>-0.092968</td>\n",
       "      <td>-0.132457</td>\n",
       "      <td>0.107277</td>\n",
       "      <td>0.409582</td>\n",
       "      <td>-0.231267</td>\n",
       "      <td>-0.073200</td>\n",
       "      <td>-0.321279</td>\n",
       "      <td>-0.368311</td>\n",
       "      <td>-0.152260</td>\n",
       "      <td>-0.199685</td>\n",
       "      <td>...</td>\n",
       "      <td>-0.194320</td>\n",
       "      <td>0.281502</td>\n",
       "      <td>0.077305</td>\n",
       "      <td>0.006572</td>\n",
       "      <td>0.128127</td>\n",
       "      <td>-0.117371</td>\n",
       "      <td>-0.196142</td>\n",
       "      <td>-0.134186</td>\n",
       "      <td>0.034336</td>\n",
       "      <td>0.244518</td>\n",
       "    </tr>\n",
       "    <tr>\n",
       "      <th>4</th>\n",
       "      <td>0.156240</td>\n",
       "      <td>-0.147064</td>\n",
       "      <td>0.019275</td>\n",
       "      <td>0.213881</td>\n",
       "      <td>-0.166329</td>\n",
       "      <td>0.024147</td>\n",
       "      <td>-0.118274</td>\n",
       "      <td>-0.221780</td>\n",
       "      <td>-0.190452</td>\n",
       "      <td>-0.272740</td>\n",
       "      <td>...</td>\n",
       "      <td>0.011935</td>\n",
       "      <td>0.071232</td>\n",
       "      <td>0.088962</td>\n",
       "      <td>-0.083966</td>\n",
       "      <td>0.262632</td>\n",
       "      <td>-0.018609</td>\n",
       "      <td>-0.064899</td>\n",
       "      <td>0.034401</td>\n",
       "      <td>-0.062924</td>\n",
       "      <td>0.120452</td>\n",
       "    </tr>\n",
       "    <tr>\n",
       "      <th>...</th>\n",
       "      <td>...</td>\n",
       "      <td>...</td>\n",
       "      <td>...</td>\n",
       "      <td>...</td>\n",
       "      <td>...</td>\n",
       "      <td>...</td>\n",
       "      <td>...</td>\n",
       "      <td>...</td>\n",
       "      <td>...</td>\n",
       "      <td>...</td>\n",
       "      <td>...</td>\n",
       "      <td>...</td>\n",
       "      <td>...</td>\n",
       "      <td>...</td>\n",
       "      <td>...</td>\n",
       "      <td>...</td>\n",
       "      <td>...</td>\n",
       "      <td>...</td>\n",
       "      <td>...</td>\n",
       "      <td>...</td>\n",
       "      <td>...</td>\n",
       "    </tr>\n",
       "    <tr>\n",
       "      <th>6935</th>\n",
       "      <td>-0.059110</td>\n",
       "      <td>-0.083165</td>\n",
       "      <td>0.183766</td>\n",
       "      <td>0.145360</td>\n",
       "      <td>0.036866</td>\n",
       "      <td>0.050309</td>\n",
       "      <td>0.000208</td>\n",
       "      <td>-0.295744</td>\n",
       "      <td>0.018608</td>\n",
       "      <td>-0.040440</td>\n",
       "      <td>...</td>\n",
       "      <td>-0.078282</td>\n",
       "      <td>0.042036</td>\n",
       "      <td>-0.040217</td>\n",
       "      <td>-0.068417</td>\n",
       "      <td>-0.000791</td>\n",
       "      <td>0.002601</td>\n",
       "      <td>0.034282</td>\n",
       "      <td>-0.022770</td>\n",
       "      <td>-0.104830</td>\n",
       "      <td>0.013526</td>\n",
       "    </tr>\n",
       "    <tr>\n",
       "      <th>6936</th>\n",
       "      <td>-0.036435</td>\n",
       "      <td>-0.113985</td>\n",
       "      <td>0.128920</td>\n",
       "      <td>0.385201</td>\n",
       "      <td>-0.109813</td>\n",
       "      <td>-0.048515</td>\n",
       "      <td>-0.189741</td>\n",
       "      <td>-0.500191</td>\n",
       "      <td>-0.146359</td>\n",
       "      <td>-0.118383</td>\n",
       "      <td>...</td>\n",
       "      <td>-0.097484</td>\n",
       "      <td>0.029577</td>\n",
       "      <td>0.006169</td>\n",
       "      <td>-0.072095</td>\n",
       "      <td>0.166441</td>\n",
       "      <td>-0.003235</td>\n",
       "      <td>-0.063718</td>\n",
       "      <td>-0.008959</td>\n",
       "      <td>-0.022081</td>\n",
       "      <td>0.050536</td>\n",
       "    </tr>\n",
       "    <tr>\n",
       "      <th>6937</th>\n",
       "      <td>0.079227</td>\n",
       "      <td>-0.146251</td>\n",
       "      <td>0.024335</td>\n",
       "      <td>0.228890</td>\n",
       "      <td>-0.132565</td>\n",
       "      <td>0.016607</td>\n",
       "      <td>-0.097274</td>\n",
       "      <td>-0.130037</td>\n",
       "      <td>-0.173744</td>\n",
       "      <td>-0.200138</td>\n",
       "      <td>...</td>\n",
       "      <td>-0.087645</td>\n",
       "      <td>0.008434</td>\n",
       "      <td>-0.055064</td>\n",
       "      <td>0.066216</td>\n",
       "      <td>0.078507</td>\n",
       "      <td>-0.005525</td>\n",
       "      <td>-0.040667</td>\n",
       "      <td>-0.089019</td>\n",
       "      <td>-0.077078</td>\n",
       "      <td>0.110110</td>\n",
       "    </tr>\n",
       "    <tr>\n",
       "      <th>6938</th>\n",
       "      <td>-0.001495</td>\n",
       "      <td>-0.054208</td>\n",
       "      <td>0.077558</td>\n",
       "      <td>0.174969</td>\n",
       "      <td>-0.092030</td>\n",
       "      <td>0.075731</td>\n",
       "      <td>-0.138686</td>\n",
       "      <td>-0.225869</td>\n",
       "      <td>-0.044076</td>\n",
       "      <td>-0.083281</td>\n",
       "      <td>...</td>\n",
       "      <td>-0.010359</td>\n",
       "      <td>0.025456</td>\n",
       "      <td>-0.054832</td>\n",
       "      <td>-0.031399</td>\n",
       "      <td>0.072385</td>\n",
       "      <td>-0.092137</td>\n",
       "      <td>0.029638</td>\n",
       "      <td>-0.096959</td>\n",
       "      <td>-0.091742</td>\n",
       "      <td>0.015780</td>\n",
       "    </tr>\n",
       "    <tr>\n",
       "      <th>6939</th>\n",
       "      <td>-0.054643</td>\n",
       "      <td>-0.175325</td>\n",
       "      <td>0.053173</td>\n",
       "      <td>0.197588</td>\n",
       "      <td>-0.051226</td>\n",
       "      <td>-0.022978</td>\n",
       "      <td>-0.079636</td>\n",
       "      <td>-0.339930</td>\n",
       "      <td>-0.077549</td>\n",
       "      <td>-0.076636</td>\n",
       "      <td>...</td>\n",
       "      <td>-0.002740</td>\n",
       "      <td>0.035654</td>\n",
       "      <td>-0.072946</td>\n",
       "      <td>-0.083784</td>\n",
       "      <td>0.063789</td>\n",
       "      <td>0.033380</td>\n",
       "      <td>0.020439</td>\n",
       "      <td>-0.012894</td>\n",
       "      <td>-0.000050</td>\n",
       "      <td>0.019683</td>\n",
       "    </tr>\n",
       "  </tbody>\n",
       "</table>\n",
       "<p>6940 rows × 2048 columns</p>\n",
       "</div>"
      ],
      "text/plain": [
       "      pep_embed_0  pep_embed_1  pep_embed_2  pep_embed_3  pep_embed_4  \\\n",
       "0        0.030033    -0.100224     0.079272     0.227686    -0.079435   \n",
       "1        0.038422    -0.160526     0.090410     0.389460    -0.191433   \n",
       "2       -0.086734    -0.043309     0.225117     0.375819    -0.259559   \n",
       "3       -0.092968    -0.132457     0.107277     0.409582    -0.231267   \n",
       "4        0.156240    -0.147064     0.019275     0.213881    -0.166329   \n",
       "...           ...          ...          ...          ...          ...   \n",
       "6935    -0.059110    -0.083165     0.183766     0.145360     0.036866   \n",
       "6936    -0.036435    -0.113985     0.128920     0.385201    -0.109813   \n",
       "6937     0.079227    -0.146251     0.024335     0.228890    -0.132565   \n",
       "6938    -0.001495    -0.054208     0.077558     0.174969    -0.092030   \n",
       "6939    -0.054643    -0.175325     0.053173     0.197588    -0.051226   \n",
       "\n",
       "      pep_embed_5  pep_embed_6  pep_embed_7  pep_embed_8  pep_embed_9  ...  \\\n",
       "0        0.039185    -0.292841    -0.230378    -0.196702    -0.083397  ...   \n",
       "1       -0.107539    -0.167799    -0.287230    -0.119073    -0.325324  ...   \n",
       "2       -0.067419    -0.255602    -0.368272    -0.146283    -0.341365  ...   \n",
       "3       -0.073200    -0.321279    -0.368311    -0.152260    -0.199685  ...   \n",
       "4        0.024147    -0.118274    -0.221780    -0.190452    -0.272740  ...   \n",
       "...           ...          ...          ...          ...          ...  ...   \n",
       "6935     0.050309     0.000208    -0.295744     0.018608    -0.040440  ...   \n",
       "6936    -0.048515    -0.189741    -0.500191    -0.146359    -0.118383  ...   \n",
       "6937     0.016607    -0.097274    -0.130037    -0.173744    -0.200138  ...   \n",
       "6938     0.075731    -0.138686    -0.225869    -0.044076    -0.083281  ...   \n",
       "6939    -0.022978    -0.079636    -0.339930    -0.077549    -0.076636  ...   \n",
       "\n",
       "      prot_embed_1014  prot_embed_1015  prot_embed_1016  prot_embed_1017  \\\n",
       "0           -0.083720         0.027851        -0.063560        -0.056856   \n",
       "1           -0.194320         0.281502         0.077305         0.006572   \n",
       "2           -0.194320         0.281502         0.077305         0.006572   \n",
       "3           -0.194320         0.281502         0.077305         0.006572   \n",
       "4            0.011935         0.071232         0.088962        -0.083966   \n",
       "...               ...              ...              ...              ...   \n",
       "6935        -0.078282         0.042036        -0.040217        -0.068417   \n",
       "6936        -0.097484         0.029577         0.006169        -0.072095   \n",
       "6937        -0.087645         0.008434        -0.055064         0.066216   \n",
       "6938        -0.010359         0.025456        -0.054832        -0.031399   \n",
       "6939        -0.002740         0.035654        -0.072946        -0.083784   \n",
       "\n",
       "      prot_embed_1018  prot_embed_1019  prot_embed_1020  prot_embed_1021  \\\n",
       "0            0.227259        -0.024167        -0.018593         0.004605   \n",
       "1            0.128127        -0.117371        -0.196142        -0.134186   \n",
       "2            0.128127        -0.117371        -0.196142        -0.134186   \n",
       "3            0.128127        -0.117371        -0.196142        -0.134186   \n",
       "4            0.262632        -0.018609        -0.064899         0.034401   \n",
       "...               ...              ...              ...              ...   \n",
       "6935        -0.000791         0.002601         0.034282        -0.022770   \n",
       "6936         0.166441        -0.003235        -0.063718        -0.008959   \n",
       "6937         0.078507        -0.005525        -0.040667        -0.089019   \n",
       "6938         0.072385        -0.092137         0.029638        -0.096959   \n",
       "6939         0.063789         0.033380         0.020439        -0.012894   \n",
       "\n",
       "      prot_embed_1022  prot_embed_1023  \n",
       "0           -0.111024        -0.023716  \n",
       "1            0.034336         0.244518  \n",
       "2            0.034336         0.244518  \n",
       "3            0.034336         0.244518  \n",
       "4           -0.062924         0.120452  \n",
       "...               ...              ...  \n",
       "6935        -0.104830         0.013526  \n",
       "6936        -0.022081         0.050536  \n",
       "6937        -0.077078         0.110110  \n",
       "6938        -0.091742         0.015780  \n",
       "6939        -0.000050         0.019683  \n",
       "\n",
       "[6940 rows x 2048 columns]"
      ]
     },
     "execution_count": 5,
     "metadata": {},
     "output_type": "execute_result"
    }
   ],
   "source": [
    "X"
   ]
  },
  {
   "cell_type": "code",
   "execution_count": 6,
   "id": "2a70c14b-da66-48f4-ab09-e0059f2a361b",
   "metadata": {},
   "outputs": [
    {
     "data": {
      "text/plain": [
       "0       1\n",
       "1       1\n",
       "2       1\n",
       "3       1\n",
       "4       1\n",
       "       ..\n",
       "6935    0\n",
       "6936    0\n",
       "6937    0\n",
       "6938    0\n",
       "6939    0\n",
       "Name: inter_res, Length: 6940, dtype: int64"
      ]
     },
     "execution_count": 6,
     "metadata": {},
     "output_type": "execute_result"
    }
   ],
   "source": [
    "Y"
   ]
  },
  {
   "cell_type": "code",
   "execution_count": 7,
   "id": "f05335cc-6b24-411e-a51e-11b47e0f7888",
   "metadata": {},
   "outputs": [],
   "source": [
    "X_train, X_test, Y_train, Y_test = train_test_split(X, Y, test_size=0.2, stratify=Y, random_state=42)"
   ]
  },
  {
   "cell_type": "code",
   "execution_count": 8,
   "id": "64ee4aa8-93c8-40cb-89f2-e8ba7c41cc29",
   "metadata": {},
   "outputs": [],
   "source": [
    "def sae_model(xt, xv=None, epochs=100, batch_size=32, hl_node=1024, lr=0.01, af=\"relu\", num_layers=3, do=0.5, fr_node=0.5):\n",
    "    xt_ae, xv_ae, w_ae = [], [], []\n",
    "\n",
    "    if xv is None:\n",
    "        xv = xt.copy()\n",
    "\n",
    "    xt = np.array(xt, dtype=np.float32)\n",
    "    xv = np.array(xv, dtype=np.float32)\n",
    "\n",
    "    for n_layers in range(num_layers):\n",
    "        inp = Input(shape=(xt.shape[1],))\n",
    "        hidden_layer = Dropout(do)(inp)\n",
    "        enc = Dense(int(hl_node * (fr_node**n_layers)), activation=af)(hidden_layer)\n",
    "        dec = Dense(xt.shape[1], activation=\"linear\")(enc)\n",
    "\n",
    "        ae = Model(inp, dec)\n",
    "        opt = Adam(learning_rate=lr)\n",
    "        ae.compile(optimizer=opt, loss='mean_squared_error')\n",
    "\n",
    "        ae.fit(xt, xt,\n",
    "               epochs=epochs,\n",
    "               batch_size=batch_size,\n",
    "               shuffle=True,\n",
    "               verbose=0,\n",
    "               validation_data=(xv, xv))\n",
    "\n",
    "        # Feature extractor\n",
    "        fe = Model(ae.input, enc)\n",
    "        xt = fe.predict(xt, verbose=0)\n",
    "        xt_ae.append(xt)\n",
    "        xv = fe.predict(xv, verbose=0)\n",
    "        xv_ae.append(xv)\n",
    "\n",
    "        dense_layer = [layer for layer in ae.layers if \"dense\" in layer.name][0]\n",
    "        w_ae.append(dense_layer.get_weights())\n",
    "\n",
    "    return w_ae"
   ]
  },
  {
   "cell_type": "code",
   "execution_count": 9,
   "id": "ae95239c-2aaa-48d9-9b12-42491cdf8e82",
   "metadata": {},
   "outputs": [],
   "source": [
    "from tensorflow.keras.models import Model\n",
    "from tensorflow.keras.layers import Input, Dense, Dropout, BatchNormalization\n",
    "from tensorflow.keras.optimizers import Adam\n",
    "import tensorflow as tf\n",
    "\n",
    "def dnn_model(xt, n_outputs=1, sae_weights=None, epochs=100, batch_size=32, lr=0.01,\n",
    "              hl_node=1024, af=\"relu\", num_layers=3, do=0.5, fr_node=0.5):\n",
    "    opt = Adam(learning_rate=lr)\n",
    "\n",
    "    input_layer = Input(shape=(xt.shape[1],))\n",
    "    hidden_layer = BatchNormalization()(input_layer)\n",
    "    hidden_layer = Dropout(do)(hidden_layer)\n",
    "\n",
    "    for n_layers in range(num_layers):\n",
    "        hidden_layer = Dense(int(hl_node * (fr_node**n_layers)), activation=af)(hidden_layer)\n",
    "        hidden_layer = BatchNormalization()(hidden_layer)\n",
    "        hidden_layer = Dropout(do)(hidden_layer)\n",
    "\n",
    "    output_layer = Dense(n_outputs, activation='sigmoid')(hidden_layer)\n",
    "    dnn = Model(input_layer, output_layer)\n",
    "\n",
    "    if sae_weights is not None:\n",
    "        dense_layers = [layer for layer in dnn.layers if isinstance(layer, tf.keras.layers.Dense)][:-1]\n",
    "        if len(sae_weights) != len(dense_layers):\n",
    "            raise ValueError(f\"Jumlah bobot SAE ({len(sae_weights)}) tidak cocok dengan jumlah Dense layer ({len(dense_layers)}).\")\n",
    "        for weight_from, layer_to in zip(sae_weights, dense_layers):\n",
    "            layer_to.set_weights(weight_from)\n",
    "\n",
    "    dnn.compile(optimizer=opt, loss='binary_crossentropy', metrics=['accuracy'])\n",
    "    return dnn"
   ]
  },
  {
   "cell_type": "code",
   "execution_count": null,
   "id": "e9113b0d-2777-4975-a0dd-8685eaa4d3ff",
   "metadata": {},
   "outputs": [],
   "source": [
    "#Hyperparameter Tuning Gridsearch\n",
    "import os\n",
    "import time\n",
    "import itertools\n",
    "import numpy as np\n",
    "import pandas as pd\n",
    "import matplotlib.pyplot as plt\n",
    "from sklearn.model_selection import KFold\n",
    "from sklearn.metrics import accuracy_score, precision_score, recall_score, f1_score, roc_auc_score\n",
    "from tensorflow.keras.callbacks import EarlyStopping, ModelCheckpoint\n",
    "\n",
    "results = []\n",
    "best_score = 0.0\n",
    "best_model_path = ''\n",
    "trial_num = 0\n",
    "\n",
    "# ===============================\n",
    "# GRIDSEARCH SPACE\n",
    "# ===============================\n",
    "epochs_list = [100, 200]\n",
    "batch_sizes = [32, 64]\n",
    "learning_rates = [1e-4, 1e-3]\n",
    "\n",
    "# ===============================\n",
    "# GRID SEARCH LOOP\n",
    "# ===============================\n",
    "for epochs, batch_size, lr in itertools.product(epochs_list, batch_sizes, learning_rates):\n",
    "    trial_num += 1\n",
    "    print(f\"\\n Trial {trial_num}: epochs={epochs}, batch={batch_size}, lr={lr}\")\n",
    "\n",
    "    accs, precs, recalls, f1s, aucs, times = [], [], [], [], [], []\n",
    "    kf = KFold(n_splits=5, shuffle=True, random_state=42)\n",
    "\n",
    "    for fold, (train_idx, val_idx) in enumerate(kf.split(X_train)):\n",
    "        print(f\" Fold {fold+1}/5\")\n",
    "        X_train_fold = X_train.iloc[train_idx]\n",
    "        X_val_fold = X_train.iloc[val_idx]\n",
    "        y_train_fold = Y_train.iloc[train_idx]\n",
    "        y_val_fold = Y_train.iloc[val_idx]\n",
    "\n",
    "        # Pretrain SAE\n",
    "        sae_weights = sae_model(X_train_fold, epochs=50, batch_size=batch_size, lr=lr)\n",
    "\n",
    "        # Train DNN\n",
    "        dnn = dnn_model(X_train_fold, n_outputs=1, sae_weights=sae_weights,\n",
    "                        epochs=epochs, batch_size=batch_size, lr=lr)\n",
    "\n",
    "        model_path = os.path.join(output_dir, f'trial{trial_num}_fold{fold+1}.h5')\n",
    "        early_stop = EarlyStopping(monitor='val_loss', patience=10, restore_best_weights=True)\n",
    "        checkpoint = ModelCheckpoint(model_path, save_best_only=True, monitor='val_loss')\n",
    "\n",
    "        start = time.time()\n",
    "        dnn.fit(X_train_fold, y_train_fold,\n",
    "                validation_data=(X_val_fold, y_val_fold),\n",
    "                epochs=epochs, batch_size=batch_size,\n",
    "                callbacks=[early_stop, checkpoint], verbose=0)\n",
    "        duration = time.time() - start\n",
    "\n",
    "        y_pred = (dnn.predict(X_val_fold) > 0.5).astype(int)\n",
    "        accs.append(accuracy_score(y_val_fold, y_pred))\n",
    "        precs.append(precision_score(y_val_fold, y_pred))\n",
    "        recalls.append(recall_score(y_val_fold, y_pred))\n",
    "        f1s.append(f1_score(y_val_fold, y_pred))\n",
    "        aucs.append(roc_auc_score(y_val_fold, y_pred))\n",
    "        times.append(duration)\n",
    "\n",
    "    avg_acc = np.mean(accs)\n",
    "    avg_auc = np.mean(aucs)\n",
    "    result = {\n",
    "        'trial': trial_num,\n",
    "        'epochs': epochs,\n",
    "        'batch_size': batch_size,\n",
    "        'lr': lr,\n",
    "        'accuracy': avg_acc,\n",
    "        'precision': np.mean(precs),\n",
    "        'recall': np.mean(recalls),\n",
    "        'f1': np.mean(f1s),\n",
    "        'roc_auc': avg_auc,\n",
    "        'train_time': np.mean(times)\n",
    "    }\n",
    "    results.append(result)\n",
    "\n",
    "    if avg_acc > best_score:\n",
    "        best_score = avg_acc\n",
    "        best_model_path = model_path\n",
    "        print(f\" Model terbaik sementara: Trial {trial_num} dengan ACC={avg_acc:.4f}\")"
   ]
  },
  {
   "cell_type": "code",
   "execution_count": 10,
   "id": "ee9f759c-1910-4c6d-83bb-ad4c926f25b7",
   "metadata": {
    "scrolled": true
   },
   "outputs": [
    {
     "name": "stdout",
     "output_type": "stream",
     "text": [
      "\n",
      "📂 Fold 1/5\n"
     ]
    },
    {
     "name": "stderr",
     "output_type": "stream",
     "text": [
      "I0000 00:00:1748489396.188851  847559 cuda_executor.cc:1015] successful NUMA node read from SysFS had negative value (-1), but there must be at least one NUMA node, so returning NUMA node zero. See more at https://github.com/torvalds/linux/blob/v6.0/Documentation/ABI/testing/sysfs-bus-pci#L344-L355\n",
      "I0000 00:00:1748489396.194068  847559 cuda_executor.cc:1015] successful NUMA node read from SysFS had negative value (-1), but there must be at least one NUMA node, so returning NUMA node zero. See more at https://github.com/torvalds/linux/blob/v6.0/Documentation/ABI/testing/sysfs-bus-pci#L344-L355\n",
      "I0000 00:00:1748489396.198572  847559 cuda_executor.cc:1015] successful NUMA node read from SysFS had negative value (-1), but there must be at least one NUMA node, so returning NUMA node zero. See more at https://github.com/torvalds/linux/blob/v6.0/Documentation/ABI/testing/sysfs-bus-pci#L344-L355\n",
      "I0000 00:00:1748489396.339204  847559 cuda_executor.cc:1015] successful NUMA node read from SysFS had negative value (-1), but there must be at least one NUMA node, so returning NUMA node zero. See more at https://github.com/torvalds/linux/blob/v6.0/Documentation/ABI/testing/sysfs-bus-pci#L344-L355\n",
      "I0000 00:00:1748489396.340725  847559 cuda_executor.cc:1015] successful NUMA node read from SysFS had negative value (-1), but there must be at least one NUMA node, so returning NUMA node zero. See more at https://github.com/torvalds/linux/blob/v6.0/Documentation/ABI/testing/sysfs-bus-pci#L344-L355\n",
      "I0000 00:00:1748489396.342092  847559 cuda_executor.cc:1015] successful NUMA node read from SysFS had negative value (-1), but there must be at least one NUMA node, so returning NUMA node zero. See more at https://github.com/torvalds/linux/blob/v6.0/Documentation/ABI/testing/sysfs-bus-pci#L344-L355\n",
      "2025-05-29 10:29:56.343485: I tensorflow/core/common_runtime/gpu/gpu_device.cc:2021] Created device /job:localhost/replica:0/task:0/device:GPU:0 with 8489 MB memory:  -> device: 0, name: NVIDIA GeForce RTX 3060, pci bus id: 0000:07:00.0, compute capability: 8.6\n",
      "WARNING: All log messages before absl::InitializeLog() is called are written to STDERR\n",
      "I0000 00:00:1748489397.231012  849936 service.cc:146] XLA service 0x7f1950004670 initialized for platform CUDA (this does not guarantee that XLA will be used). Devices:\n",
      "I0000 00:00:1748489397.231037  849936 service.cc:154]   StreamExecutor device (0): NVIDIA GeForce RTX 3060, Compute Capability 8.6\n",
      "2025-05-29 10:29:57.255399: I tensorflow/compiler/mlir/tensorflow/utils/dump_mlir_util.cc:268] disabling MLIR crash reproducer, set env var `MLIR_CRASH_REPRODUCER_DIRECTORY` to enable.\n",
      "2025-05-29 10:29:57.334784: I external/local_xla/xla/stream_executor/cuda/cuda_dnn.cc:531] Loaded cuDNN version 8907\n",
      "2025-05-29 10:29:57.936528: I external/local_xla/xla/stream_executor/cuda/cuda_asm_compiler.cc:393] ptxas warning : Registers are spilled to local memory in function 'gemm_fusion_dot_584', 24 bytes spill stores, 24 bytes spill loads\n",
      "\n",
      "2025-05-29 10:29:57.943927: I external/local_xla/xla/stream_executor/cuda/cuda_asm_compiler.cc:393] ptxas warning : Registers are spilled to local memory in function 'gemm_fusion_dot_413', 132 bytes spill stores, 132 bytes spill loads\n",
      "\n",
      "2025-05-29 10:29:58.243160: I external/local_xla/xla/stream_executor/cuda/cuda_asm_compiler.cc:393] ptxas warning : Registers are spilled to local memory in function 'gemm_fusion_dot_413', 16 bytes spill stores, 16 bytes spill loads\n",
      "\n",
      "2025-05-29 10:29:58.336154: I external/local_xla/xla/stream_executor/cuda/cuda_asm_compiler.cc:393] ptxas warning : Registers are spilled to local memory in function 'gemm_fusion_dot_584', 24 bytes spill stores, 24 bytes spill loads\n",
      "\n",
      "2025-05-29 10:29:58.338268: I external/local_xla/xla/stream_executor/cuda/cuda_asm_compiler.cc:393] ptxas warning : Registers are spilled to local memory in function 'gemm_fusion_dot_584', 24 bytes spill stores, 24 bytes spill loads\n",
      "\n",
      "2025-05-29 10:29:58.352343: I external/local_xla/xla/stream_executor/cuda/cuda_asm_compiler.cc:393] ptxas warning : Registers are spilled to local memory in function 'gemm_fusion_dot_584', 24 bytes spill stores, 24 bytes spill loads\n",
      "\n",
      "2025-05-29 10:29:58.403982: I external/local_xla/xla/stream_executor/cuda/cuda_asm_compiler.cc:393] ptxas warning : Registers are spilled to local memory in function 'gemm_fusion_dot_570', 76 bytes spill stores, 76 bytes spill loads\n",
      "\n",
      "2025-05-29 10:29:58.549729: I external/local_xla/xla/stream_executor/cuda/cuda_asm_compiler.cc:393] ptxas warning : Registers are spilled to local memory in function 'gemm_fusion_dot_570', 60 bytes spill stores, 156 bytes spill loads\n",
      "\n",
      "2025-05-29 10:29:58.605343: I external/local_xla/xla/stream_executor/cuda/cuda_asm_compiler.cc:393] ptxas warning : Registers are spilled to local memory in function 'gemm_fusion_dot_570', 12 bytes spill stores, 12 bytes spill loads\n",
      "\n",
      "2025-05-29 10:29:58.605370: I external/local_xla/xla/stream_executor/cuda/cuda_asm_compiler.cc:393] ptxas warning : Registers are spilled to local memory in function 'gemm_fusion_dot_584', 36 bytes spill stores, 40 bytes spill loads\n",
      "\n",
      "2025-05-29 10:29:58.745039: I external/local_xla/xla/stream_executor/cuda/cuda_asm_compiler.cc:393] ptxas warning : Registers are spilled to local memory in function 'gemm_fusion_dot_570', 320 bytes spill stores, 912 bytes spill loads\n",
      "\n",
      "I0000 00:00:1748489399.377689  849936 device_compiler.h:188] Compiled cluster using XLA!  This line is logged at most once for the lifetime of the process.\n",
      "2025-05-29 10:30:00.199465: I external/local_xla/xla/stream_executor/cuda/cuda_asm_compiler.cc:393] ptxas warning : Registers are spilled to local memory in function 'gemm_fusion_dot_413', 32 bytes spill stores, 32 bytes spill loads\n",
      "\n",
      "2025-05-29 10:30:00.255768: I external/local_xla/xla/stream_executor/cuda/cuda_asm_compiler.cc:393] ptxas warning : Registers are spilled to local memory in function 'gemm_fusion_dot_570', 104 bytes spill stores, 104 bytes spill loads\n",
      "\n",
      "2025-05-29 10:30:00.303443: I external/local_xla/xla/stream_executor/cuda/cuda_asm_compiler.cc:393] ptxas warning : Registers are spilled to local memory in function 'gemm_fusion_dot_413', 200 bytes spill stores, 200 bytes spill loads\n",
      "\n",
      "2025-05-29 10:30:00.405731: I external/local_xla/xla/stream_executor/cuda/cuda_asm_compiler.cc:393] ptxas warning : Registers are spilled to local memory in function 'gemm_fusion_dot_413', 80 bytes spill stores, 80 bytes spill loads\n",
      "\n",
      "2025-05-29 10:30:00.673641: I external/local_xla/xla/stream_executor/cuda/cuda_asm_compiler.cc:393] ptxas warning : Registers are spilled to local memory in function 'gemm_fusion_dot_413', 12 bytes spill stores, 12 bytes spill loads\n",
      "\n",
      "2025-05-29 10:30:00.695742: I external/local_xla/xla/stream_executor/cuda/cuda_asm_compiler.cc:393] ptxas warning : Registers are spilled to local memory in function 'gemm_fusion_dot_584', 36 bytes spill stores, 40 bytes spill loads\n",
      "\n",
      "2025-05-29 10:30:00.743537: I external/local_xla/xla/stream_executor/cuda/cuda_asm_compiler.cc:393] ptxas warning : Registers are spilled to local memory in function 'gemm_fusion_dot_570', 348 bytes spill stores, 348 bytes spill loads\n",
      "\n",
      "2025-05-29 10:30:00.821433: I external/local_xla/xla/stream_executor/cuda/cuda_asm_compiler.cc:393] ptxas warning : Registers are spilled to local memory in function 'gemm_fusion_dot_570', 16 bytes spill stores, 16 bytes spill loads\n",
      "\n",
      "2025-05-29 10:30:00.826842: I external/local_xla/xla/stream_executor/cuda/cuda_asm_compiler.cc:393] ptxas warning : Registers are spilled to local memory in function 'gemm_fusion_dot_584', 32 bytes spill stores, 32 bytes spill loads\n",
      "\n",
      "2025-05-29 10:30:00.909541: I external/local_xla/xla/stream_executor/cuda/cuda_asm_compiler.cc:393] ptxas warning : Registers are spilled to local memory in function 'gemm_fusion_dot_570', 92 bytes spill stores, 92 bytes spill loads\n",
      "\n",
      "2025-05-29 10:31:14.708581: I external/local_xla/xla/stream_executor/cuda/cuda_asm_compiler.cc:393] ptxas warning : Registers are spilled to local memory in function 'gemm_fusion_dot_570', 64 bytes spill stores, 64 bytes spill loads\n",
      "\n",
      "2025-05-29 10:31:14.801251: I external/local_xla/xla/stream_executor/cuda/cuda_asm_compiler.cc:393] ptxas warning : Registers are spilled to local memory in function 'gemm_fusion_dot_584', 24 bytes spill stores, 24 bytes spill loads\n",
      "\n",
      "2025-05-29 10:31:14.886863: I external/local_xla/xla/stream_executor/cuda/cuda_asm_compiler.cc:393] ptxas warning : Registers are spilled to local memory in function 'gemm_fusion_dot_584', 24 bytes spill stores, 24 bytes spill loads\n",
      "\n",
      "2025-05-29 10:31:14.995253: I external/local_xla/xla/stream_executor/cuda/cuda_asm_compiler.cc:393] ptxas warning : Registers are spilled to local memory in function 'gemm_fusion_dot_584', 24 bytes spill stores, 24 bytes spill loads\n",
      "\n",
      "2025-05-29 10:31:15.014344: I external/local_xla/xla/stream_executor/cuda/cuda_asm_compiler.cc:393] ptxas warning : Registers are spilled to local memory in function 'gemm_fusion_dot_584', 36 bytes spill stores, 40 bytes spill loads\n",
      "\n",
      "2025-05-29 10:31:15.043574: I external/local_xla/xla/stream_executor/cuda/cuda_asm_compiler.cc:393] ptxas warning : Registers are spilled to local memory in function 'gemm_fusion_dot_584', 24 bytes spill stores, 24 bytes spill loads\n",
      "\n",
      "2025-05-29 10:31:15.154663: I external/local_xla/xla/stream_executor/cuda/cuda_asm_compiler.cc:393] ptxas warning : Registers are spilled to local memory in function 'gemm_fusion_dot_570', 280 bytes spill stores, 280 bytes spill loads\n",
      "\n",
      "2025-05-29 10:31:16.562002: I external/local_xla/xla/stream_executor/cuda/cuda_asm_compiler.cc:393] ptxas warning : Registers are spilled to local memory in function 'gemm_fusion_dot_570', 336 bytes spill stores, 336 bytes spill loads\n",
      "\n",
      "2025-05-29 10:31:16.795212: I external/local_xla/xla/stream_executor/cuda/cuda_asm_compiler.cc:393] ptxas warning : Registers are spilled to local memory in function 'gemm_fusion_dot_584', 32 bytes spill stores, 32 bytes spill loads\n",
      "\n",
      "2025-05-29 10:31:16.875137: I external/local_xla/xla/stream_executor/cuda/cuda_asm_compiler.cc:393] ptxas warning : Registers are spilled to local memory in function 'gemm_fusion_dot_584', 36 bytes spill stores, 40 bytes spill loads\n",
      "\n",
      "2025-05-29 10:31:16.899514: I external/local_xla/xla/stream_executor/cuda/cuda_asm_compiler.cc:393] ptxas warning : Registers are spilled to local memory in function 'gemm_fusion_dot_570', 16 bytes spill stores, 16 bytes spill loads\n",
      "\n",
      "2025-05-29 10:31:17.016987: I external/local_xla/xla/stream_executor/cuda/cuda_asm_compiler.cc:393] ptxas warning : Registers are spilled to local memory in function 'gemm_fusion_dot_570', 100 bytes spill stores, 100 bytes spill loads\n",
      "\n",
      "2025-05-29 10:31:17.074131: I external/local_xla/xla/stream_executor/cuda/cuda_asm_compiler.cc:393] ptxas warning : Registers are spilled to local memory in function 'gemm_fusion_dot_570', 412 bytes spill stores, 440 bytes spill loads\n",
      "\n",
      "2025-05-29 10:32:09.290945: I external/local_xla/xla/stream_executor/cuda/cuda_asm_compiler.cc:393] ptxas warning : Registers are spilled to local memory in function 'gemm_fusion_dot_584', 24 bytes spill stores, 24 bytes spill loads\n",
      "\n",
      "2025-05-29 10:32:09.573419: I external/local_xla/xla/stream_executor/cuda/cuda_asm_compiler.cc:393] ptxas warning : Registers are spilled to local memory in function 'gemm_fusion_dot_584', 24 bytes spill stores, 24 bytes spill loads\n",
      "\n",
      "2025-05-29 10:32:09.676229: I external/local_xla/xla/stream_executor/cuda/cuda_asm_compiler.cc:393] ptxas warning : Registers are spilled to local memory in function 'gemm_fusion_dot_584', 24 bytes spill stores, 24 bytes spill loads\n",
      "\n",
      "2025-05-29 10:32:09.691712: I external/local_xla/xla/stream_executor/cuda/cuda_asm_compiler.cc:393] ptxas warning : Registers are spilled to local memory in function 'gemm_fusion_dot_584', 36 bytes spill stores, 40 bytes spill loads\n",
      "\n",
      "2025-05-29 10:32:09.723682: I external/local_xla/xla/stream_executor/cuda/cuda_asm_compiler.cc:393] ptxas warning : Registers are spilled to local memory in function 'gemm_fusion_dot_584', 24 bytes spill stores, 24 bytes spill loads\n",
      "\n",
      "2025-05-29 10:32:11.409521: I external/local_xla/xla/stream_executor/cuda/cuda_asm_compiler.cc:393] ptxas warning : Registers are spilled to local memory in function 'gemm_fusion_dot_584', 32 bytes spill stores, 32 bytes spill loads\n",
      "\n",
      "2025-05-29 10:32:11.583850: I external/local_xla/xla/stream_executor/cuda/cuda_asm_compiler.cc:393] ptxas warning : Registers are spilled to local memory in function 'gemm_fusion_dot_584', 36 bytes spill stores, 40 bytes spill loads\n",
      "\n"
     ]
    },
    {
     "name": "stdout",
     "output_type": "stream",
     "text": [
      "Epoch 1/200\n",
      "\u001b[1m139/139\u001b[0m \u001b[32m━━━━━━━━━━━━━━━━━━━━\u001b[0m\u001b[37m\u001b[0m \u001b[1m0s\u001b[0m 17ms/step - accuracy: 0.5583 - loss: 0.8462"
     ]
    },
    {
     "name": "stderr",
     "output_type": "stream",
     "text": [
      "WARNING:absl:You are saving your model as an HDF5 file via `model.save()` or `keras.saving.save_model(model)`. This file format is considered legacy. We recommend using instead the native Keras format, e.g. `model.save('my_model.keras')` or `keras.saving.save_model(model, 'my_model.keras')`. \n"
     ]
    },
    {
     "name": "stdout",
     "output_type": "stream",
     "text": [
      "\u001b[1m139/139\u001b[0m \u001b[32m━━━━━━━━━━━━━━━━━━━━\u001b[0m\u001b[37m\u001b[0m \u001b[1m6s\u001b[0m 23ms/step - accuracy: 0.5583 - loss: 0.8460 - val_accuracy: 0.4869 - val_loss: 0.7450\n",
      "Epoch 2/200\n",
      "\u001b[1m139/139\u001b[0m \u001b[32m━━━━━━━━━━━━━━━━━━━━\u001b[0m\u001b[37m\u001b[0m \u001b[1m0s\u001b[0m 2ms/step - accuracy: 0.6144 - loss: 0.7461 - val_accuracy: 0.4878 - val_loss: 0.9649\n",
      "Epoch 3/200\n",
      "\u001b[1m127/139\u001b[0m \u001b[32m━━━━━━━━━━━━━━━━━━\u001b[0m\u001b[37m━━\u001b[0m \u001b[1m0s\u001b[0m 2ms/step - accuracy: 0.6827 - loss: 0.6356 "
     ]
    },
    {
     "name": "stderr",
     "output_type": "stream",
     "text": [
      "WARNING:absl:You are saving your model as an HDF5 file via `model.save()` or `keras.saving.save_model(model)`. This file format is considered legacy. We recommend using instead the native Keras format, e.g. `model.save('my_model.keras')` or `keras.saving.save_model(model, 'my_model.keras')`. \n"
     ]
    },
    {
     "name": "stdout",
     "output_type": "stream",
     "text": [
      "\u001b[1m139/139\u001b[0m \u001b[32m━━━━━━━━━━━━━━━━━━━━\u001b[0m\u001b[37m\u001b[0m \u001b[1m0s\u001b[0m 3ms/step - accuracy: 0.6818 - loss: 0.6362 - val_accuracy: 0.6346 - val_loss: 0.6288\n",
      "Epoch 4/200\n",
      "\u001b[1m118/139\u001b[0m \u001b[32m━━━━━━━━━━━━━━━━\u001b[0m\u001b[37m━━━━\u001b[0m \u001b[1m0s\u001b[0m 2ms/step - accuracy: 0.7004 - loss: 0.6045 "
     ]
    },
    {
     "name": "stderr",
     "output_type": "stream",
     "text": [
      "WARNING:absl:You are saving your model as an HDF5 file via `model.save()` or `keras.saving.save_model(model)`. This file format is considered legacy. We recommend using instead the native Keras format, e.g. `model.save('my_model.keras')` or `keras.saving.save_model(model, 'my_model.keras')`. \n"
     ]
    },
    {
     "name": "stdout",
     "output_type": "stream",
     "text": [
      "\u001b[1m139/139\u001b[0m \u001b[32m━━━━━━━━━━━━━━━━━━━━\u001b[0m\u001b[37m\u001b[0m \u001b[1m0s\u001b[0m 3ms/step - accuracy: 0.7006 - loss: 0.6046 - val_accuracy: 0.7246 - val_loss: 0.5423\n",
      "Epoch 5/200\n",
      "\u001b[1m122/139\u001b[0m \u001b[32m━━━━━━━━━━━━━━━━━\u001b[0m\u001b[37m━━━\u001b[0m \u001b[1m0s\u001b[0m 2ms/step - accuracy: 0.7280 - loss: 0.5580 "
     ]
    },
    {
     "name": "stderr",
     "output_type": "stream",
     "text": [
      "WARNING:absl:You are saving your model as an HDF5 file via `model.save()` or `keras.saving.save_model(model)`. This file format is considered legacy. We recommend using instead the native Keras format, e.g. `model.save('my_model.keras')` or `keras.saving.save_model(model, 'my_model.keras')`. \n"
     ]
    },
    {
     "name": "stdout",
     "output_type": "stream",
     "text": [
      "\u001b[1m139/139\u001b[0m \u001b[32m━━━━━━━━━━━━━━━━━━━━\u001b[0m\u001b[37m\u001b[0m \u001b[1m0s\u001b[0m 3ms/step - accuracy: 0.7268 - loss: 0.5589 - val_accuracy: 0.7561 - val_loss: 0.5051\n",
      "Epoch 6/200\n",
      "\u001b[1m121/139\u001b[0m \u001b[32m━━━━━━━━━━━━━━━━━\u001b[0m\u001b[37m━━━\u001b[0m \u001b[1m0s\u001b[0m 2ms/step - accuracy: 0.7345 - loss: 0.5221 "
     ]
    },
    {
     "name": "stderr",
     "output_type": "stream",
     "text": [
      "WARNING:absl:You are saving your model as an HDF5 file via `model.save()` or `keras.saving.save_model(model)`. This file format is considered legacy. We recommend using instead the native Keras format, e.g. `model.save('my_model.keras')` or `keras.saving.save_model(model, 'my_model.keras')`. \n"
     ]
    },
    {
     "name": "stdout",
     "output_type": "stream",
     "text": [
      "\u001b[1m139/139\u001b[0m \u001b[32m━━━━━━━━━━━━━━━━━━━━\u001b[0m\u001b[37m\u001b[0m \u001b[1m0s\u001b[0m 3ms/step - accuracy: 0.7340 - loss: 0.5241 - val_accuracy: 0.7525 - val_loss: 0.4918\n",
      "Epoch 7/200\n",
      "\u001b[1m139/139\u001b[0m \u001b[32m━━━━━━━━━━━━━━━━━━━━\u001b[0m\u001b[37m\u001b[0m \u001b[1m0s\u001b[0m 2ms/step - accuracy: 0.7566 - loss: 0.4982 - val_accuracy: 0.7660 - val_loss: 0.5035\n",
      "Epoch 8/200\n",
      "\u001b[1m120/139\u001b[0m \u001b[32m━━━━━━━━━━━━━━━━━\u001b[0m\u001b[37m━━━\u001b[0m \u001b[1m0s\u001b[0m 2ms/step - accuracy: 0.7806 - loss: 0.4738 "
     ]
    },
    {
     "name": "stderr",
     "output_type": "stream",
     "text": [
      "WARNING:absl:You are saving your model as an HDF5 file via `model.save()` or `keras.saving.save_model(model)`. This file format is considered legacy. We recommend using instead the native Keras format, e.g. `model.save('my_model.keras')` or `keras.saving.save_model(model, 'my_model.keras')`. \n"
     ]
    },
    {
     "name": "stdout",
     "output_type": "stream",
     "text": [
      "\u001b[1m139/139\u001b[0m \u001b[32m━━━━━━━━━━━━━━━━━━━━\u001b[0m\u001b[37m\u001b[0m \u001b[1m0s\u001b[0m 3ms/step - accuracy: 0.7792 - loss: 0.4755 - val_accuracy: 0.7957 - val_loss: 0.4729\n",
      "Epoch 9/200\n",
      "\u001b[1m139/139\u001b[0m \u001b[32m━━━━━━━━━━━━━━━━━━━━\u001b[0m\u001b[37m\u001b[0m \u001b[1m0s\u001b[0m 2ms/step - accuracy: 0.7888 - loss: 0.4552 - val_accuracy: 0.7840 - val_loss: 0.4739\n",
      "Epoch 10/200\n",
      "\u001b[1m139/139\u001b[0m \u001b[32m━━━━━━━━━━━━━━━━━━━━\u001b[0m\u001b[37m\u001b[0m \u001b[1m0s\u001b[0m 2ms/step - accuracy: 0.7935 - loss: 0.4369 - val_accuracy: 0.7597 - val_loss: 0.4904\n",
      "Epoch 11/200\n",
      "\u001b[1m139/139\u001b[0m \u001b[32m━━━━━━━━━━━━━━━━━━━━\u001b[0m\u001b[37m\u001b[0m \u001b[1m0s\u001b[0m 2ms/step - accuracy: 0.8106 - loss: 0.4136 - val_accuracy: 0.7903 - val_loss: 0.4862\n",
      "Epoch 12/200\n",
      "\u001b[1m120/139\u001b[0m \u001b[32m━━━━━━━━━━━━━━━━━\u001b[0m\u001b[37m━━━\u001b[0m \u001b[1m0s\u001b[0m 2ms/step - accuracy: 0.8152 - loss: 0.4127 "
     ]
    },
    {
     "name": "stderr",
     "output_type": "stream",
     "text": [
      "WARNING:absl:You are saving your model as an HDF5 file via `model.save()` or `keras.saving.save_model(model)`. This file format is considered legacy. We recommend using instead the native Keras format, e.g. `model.save('my_model.keras')` or `keras.saving.save_model(model, 'my_model.keras')`. \n"
     ]
    },
    {
     "name": "stdout",
     "output_type": "stream",
     "text": [
      "\u001b[1m139/139\u001b[0m \u001b[32m━━━━━━━━━━━━━━━━━━━━\u001b[0m\u001b[37m\u001b[0m \u001b[1m0s\u001b[0m 3ms/step - accuracy: 0.8133 - loss: 0.4153 - val_accuracy: 0.7732 - val_loss: 0.4675\n",
      "Epoch 13/200\n",
      "\u001b[1m139/139\u001b[0m \u001b[32m━━━━━━━━━━━━━━━━━━━━\u001b[0m\u001b[37m\u001b[0m \u001b[1m0s\u001b[0m 2ms/step - accuracy: 0.8194 - loss: 0.3954 - val_accuracy: 0.7822 - val_loss: 0.4815\n",
      "Epoch 14/200\n",
      "\u001b[1m139/139\u001b[0m \u001b[32m━━━━━━━━━━━━━━━━━━━━\u001b[0m\u001b[37m\u001b[0m \u001b[1m0s\u001b[0m 2ms/step - accuracy: 0.8238 - loss: 0.3869 - val_accuracy: 0.7921 - val_loss: 0.4764\n",
      "Epoch 15/200\n",
      "\u001b[1m139/139\u001b[0m \u001b[32m━━━━━━━━━━━━━━━━━━━━\u001b[0m\u001b[37m\u001b[0m \u001b[1m0s\u001b[0m 2ms/step - accuracy: 0.8290 - loss: 0.3760 - val_accuracy: 0.7714 - val_loss: 0.4956\n",
      "Epoch 16/200\n",
      "\u001b[1m120/139\u001b[0m \u001b[32m━━━━━━━━━━━━━━━━━\u001b[0m\u001b[37m━━━\u001b[0m \u001b[1m0s\u001b[0m 2ms/step - accuracy: 0.8440 - loss: 0.3551 "
     ]
    },
    {
     "name": "stderr",
     "output_type": "stream",
     "text": [
      "WARNING:absl:You are saving your model as an HDF5 file via `model.save()` or `keras.saving.save_model(model)`. This file format is considered legacy. We recommend using instead the native Keras format, e.g. `model.save('my_model.keras')` or `keras.saving.save_model(model, 'my_model.keras')`. \n"
     ]
    },
    {
     "name": "stdout",
     "output_type": "stream",
     "text": [
      "\u001b[1m139/139\u001b[0m \u001b[32m━━━━━━━━━━━━━━━━━━━━\u001b[0m\u001b[37m\u001b[0m \u001b[1m0s\u001b[0m 3ms/step - accuracy: 0.8418 - loss: 0.3579 - val_accuracy: 0.7903 - val_loss: 0.4659\n",
      "Epoch 17/200\n",
      "\u001b[1m139/139\u001b[0m \u001b[32m━━━━━━━━━━━━━━━━━━━━\u001b[0m\u001b[37m\u001b[0m \u001b[1m0s\u001b[0m 2ms/step - accuracy: 0.8448 - loss: 0.3614 - val_accuracy: 0.7894 - val_loss: 0.4759\n",
      "Epoch 18/200\n",
      "\u001b[1m139/139\u001b[0m \u001b[32m━━━━━━━━━━━━━━━━━━━━\u001b[0m\u001b[37m\u001b[0m \u001b[1m0s\u001b[0m 2ms/step - accuracy: 0.8474 - loss: 0.3404 - val_accuracy: 0.7921 - val_loss: 0.4884\n",
      "Epoch 19/200\n",
      "\u001b[1m139/139\u001b[0m \u001b[32m━━━━━━━━━━━━━━━━━━━━\u001b[0m\u001b[37m\u001b[0m \u001b[1m0s\u001b[0m 2ms/step - accuracy: 0.8544 - loss: 0.3227 - val_accuracy: 0.7894 - val_loss: 0.4793\n",
      "Epoch 20/200\n",
      "\u001b[1m139/139\u001b[0m \u001b[32m━━━━━━━━━━━━━━━━━━━━\u001b[0m\u001b[37m\u001b[0m \u001b[1m0s\u001b[0m 2ms/step - accuracy: 0.8523 - loss: 0.3263 - val_accuracy: 0.7948 - val_loss: 0.4770\n",
      "Epoch 21/200\n",
      "\u001b[1m139/139\u001b[0m \u001b[32m━━━━━━━━━━━━━━━━━━━━\u001b[0m\u001b[37m\u001b[0m \u001b[1m0s\u001b[0m 2ms/step - accuracy: 0.8597 - loss: 0.3146 - val_accuracy: 0.8002 - val_loss: 0.5030\n",
      "Epoch 22/200\n",
      "\u001b[1m139/139\u001b[0m \u001b[32m━━━━━━━━━━━━━━━━━━━━\u001b[0m\u001b[37m\u001b[0m \u001b[1m0s\u001b[0m 2ms/step - accuracy: 0.8591 - loss: 0.3217 - val_accuracy: 0.8020 - val_loss: 0.4930\n",
      "Epoch 23/200\n",
      "\u001b[1m139/139\u001b[0m \u001b[32m━━━━━━━━━━━━━━━━━━━━\u001b[0m\u001b[37m\u001b[0m \u001b[1m0s\u001b[0m 2ms/step - accuracy: 0.8709 - loss: 0.2898 - val_accuracy: 0.8002 - val_loss: 0.4825\n",
      "Epoch 24/200\n",
      "\u001b[1m139/139\u001b[0m \u001b[32m━━━━━━━━━━━━━━━━━━━━\u001b[0m\u001b[37m\u001b[0m \u001b[1m0s\u001b[0m 2ms/step - accuracy: 0.8642 - loss: 0.3077 - val_accuracy: 0.8056 - val_loss: 0.5012\n",
      "Epoch 25/200\n",
      "\u001b[1m139/139\u001b[0m \u001b[32m━━━━━━━━━━━━━━━━━━━━\u001b[0m\u001b[37m\u001b[0m \u001b[1m0s\u001b[0m 2ms/step - accuracy: 0.8719 - loss: 0.2900 - val_accuracy: 0.8065 - val_loss: 0.4950\n",
      "Epoch 26/200\n",
      "\u001b[1m139/139\u001b[0m \u001b[32m━━━━━━━━━━━━━━━━━━━━\u001b[0m\u001b[37m\u001b[0m \u001b[1m0s\u001b[0m 2ms/step - accuracy: 0.8910 - loss: 0.2689 - val_accuracy: 0.7966 - val_loss: 0.5032\n",
      "\u001b[1m35/35\u001b[0m \u001b[32m━━━━━━━━━━━━━━━━━━━━\u001b[0m\u001b[37m\u001b[0m \u001b[1m0s\u001b[0m 8ms/step  \n",
      "\n",
      "📂 Fold 2/5\n",
      "Epoch 1/200\n",
      "\u001b[1m139/139\u001b[0m \u001b[32m━━━━━━━━━━━━━━━━━━━━\u001b[0m\u001b[37m\u001b[0m \u001b[1m0s\u001b[0m 14ms/step - accuracy: 0.5181 - loss: 0.8924"
     ]
    },
    {
     "name": "stderr",
     "output_type": "stream",
     "text": [
      "WARNING:absl:You are saving your model as an HDF5 file via `model.save()` or `keras.saving.save_model(model)`. This file format is considered legacy. We recommend using instead the native Keras format, e.g. `model.save('my_model.keras')` or `keras.saving.save_model(model, 'my_model.keras')`. \n"
     ]
    },
    {
     "name": "stdout",
     "output_type": "stream",
     "text": [
      "\u001b[1m139/139\u001b[0m \u001b[32m━━━━━━━━━━━━━━━━━━━━\u001b[0m\u001b[37m\u001b[0m \u001b[1m5s\u001b[0m 19ms/step - accuracy: 0.5182 - loss: 0.8921 - val_accuracy: 0.4689 - val_loss: 0.7500\n",
      "Epoch 2/200\n",
      "\u001b[1m139/139\u001b[0m \u001b[32m━━━━━━━━━━━━━━━━━━━━\u001b[0m\u001b[37m\u001b[0m \u001b[1m0s\u001b[0m 2ms/step - accuracy: 0.6200 - loss: 0.7078 - val_accuracy: 0.4761 - val_loss: 0.7700\n",
      "Epoch 3/200\n",
      "\u001b[1m124/139\u001b[0m \u001b[32m━━━━━━━━━━━━━━━━━\u001b[0m\u001b[37m━━━\u001b[0m \u001b[1m0s\u001b[0m 2ms/step - accuracy: 0.6599 - loss: 0.6491 "
     ]
    },
    {
     "name": "stderr",
     "output_type": "stream",
     "text": [
      "WARNING:absl:You are saving your model as an HDF5 file via `model.save()` or `keras.saving.save_model(model)`. This file format is considered legacy. We recommend using instead the native Keras format, e.g. `model.save('my_model.keras')` or `keras.saving.save_model(model, 'my_model.keras')`. \n"
     ]
    },
    {
     "name": "stdout",
     "output_type": "stream",
     "text": [
      "\u001b[1m139/139\u001b[0m \u001b[32m━━━━━━━━━━━━━━━━━━━━\u001b[0m\u001b[37m\u001b[0m \u001b[1m0s\u001b[0m 3ms/step - accuracy: 0.6602 - loss: 0.6495 - val_accuracy: 0.5851 - val_loss: 0.7043\n",
      "Epoch 4/200\n",
      "\u001b[1m116/139\u001b[0m \u001b[32m━━━━━━━━━━━━━━━━\u001b[0m\u001b[37m━━━━\u001b[0m \u001b[1m0s\u001b[0m 2ms/step - accuracy: 0.6819 - loss: 0.6157 "
     ]
    },
    {
     "name": "stderr",
     "output_type": "stream",
     "text": [
      "WARNING:absl:You are saving your model as an HDF5 file via `model.save()` or `keras.saving.save_model(model)`. This file format is considered legacy. We recommend using instead the native Keras format, e.g. `model.save('my_model.keras')` or `keras.saving.save_model(model, 'my_model.keras')`. \n"
     ]
    },
    {
     "name": "stdout",
     "output_type": "stream",
     "text": [
      "\u001b[1m139/139\u001b[0m \u001b[32m━━━━━━━━━━━━━━━━━━━━\u001b[0m\u001b[37m\u001b[0m \u001b[1m0s\u001b[0m 3ms/step - accuracy: 0.6833 - loss: 0.6145 - val_accuracy: 0.6868 - val_loss: 0.5973\n",
      "Epoch 5/200\n",
      "\u001b[1m122/139\u001b[0m \u001b[32m━━━━━━━━━━━━━━━━━\u001b[0m\u001b[37m━━━\u001b[0m \u001b[1m0s\u001b[0m 2ms/step - accuracy: 0.7275 - loss: 0.5487 "
     ]
    },
    {
     "name": "stderr",
     "output_type": "stream",
     "text": [
      "WARNING:absl:You are saving your model as an HDF5 file via `model.save()` or `keras.saving.save_model(model)`. This file format is considered legacy. We recommend using instead the native Keras format, e.g. `model.save('my_model.keras')` or `keras.saving.save_model(model, 'my_model.keras')`. \n"
     ]
    },
    {
     "name": "stdout",
     "output_type": "stream",
     "text": [
      "\u001b[1m139/139\u001b[0m \u001b[32m━━━━━━━━━━━━━━━━━━━━\u001b[0m\u001b[37m\u001b[0m \u001b[1m0s\u001b[0m 3ms/step - accuracy: 0.7278 - loss: 0.5495 - val_accuracy: 0.7084 - val_loss: 0.5677\n",
      "Epoch 6/200\n",
      "\u001b[1m127/139\u001b[0m \u001b[32m━━━━━━━━━━━━━━━━━━\u001b[0m\u001b[37m━━\u001b[0m \u001b[1m0s\u001b[0m 2ms/step - accuracy: 0.7521 - loss: 0.5131 "
     ]
    },
    {
     "name": "stderr",
     "output_type": "stream",
     "text": [
      "WARNING:absl:You are saving your model as an HDF5 file via `model.save()` or `keras.saving.save_model(model)`. This file format is considered legacy. We recommend using instead the native Keras format, e.g. `model.save('my_model.keras')` or `keras.saving.save_model(model, 'my_model.keras')`. \n"
     ]
    },
    {
     "name": "stdout",
     "output_type": "stream",
     "text": [
      "\u001b[1m139/139\u001b[0m \u001b[32m━━━━━━━━━━━━━━━━━━━━\u001b[0m\u001b[37m\u001b[0m \u001b[1m0s\u001b[0m 3ms/step - accuracy: 0.7516 - loss: 0.5136 - val_accuracy: 0.7147 - val_loss: 0.5527\n",
      "Epoch 7/200\n",
      "\u001b[1m134/139\u001b[0m \u001b[32m━━━━━━━━━━━━━━━━━━━\u001b[0m\u001b[37m━\u001b[0m \u001b[1m0s\u001b[0m 2ms/step - accuracy: 0.7785 - loss: 0.4759 "
     ]
    },
    {
     "name": "stderr",
     "output_type": "stream",
     "text": [
      "WARNING:absl:You are saving your model as an HDF5 file via `model.save()` or `keras.saving.save_model(model)`. This file format is considered legacy. We recommend using instead the native Keras format, e.g. `model.save('my_model.keras')` or `keras.saving.save_model(model, 'my_model.keras')`. \n"
     ]
    },
    {
     "name": "stdout",
     "output_type": "stream",
     "text": [
      "\u001b[1m139/139\u001b[0m \u001b[32m━━━━━━━━━━━━━━━━━━━━\u001b[0m\u001b[37m\u001b[0m \u001b[1m0s\u001b[0m 3ms/step - accuracy: 0.7780 - loss: 0.4766 - val_accuracy: 0.7345 - val_loss: 0.5270\n",
      "Epoch 8/200\n",
      "\u001b[1m139/139\u001b[0m \u001b[32m━━━━━━━━━━━━━━━━━━━━\u001b[0m\u001b[37m\u001b[0m \u001b[1m0s\u001b[0m 2ms/step - accuracy: 0.7888 - loss: 0.4555 - val_accuracy: 0.7390 - val_loss: 0.5329\n",
      "Epoch 9/200\n",
      "\u001b[1m139/139\u001b[0m \u001b[32m━━━━━━━━━━━━━━━━━━━━\u001b[0m\u001b[37m\u001b[0m \u001b[1m0s\u001b[0m 2ms/step - accuracy: 0.7935 - loss: 0.4541 - val_accuracy: 0.7399 - val_loss: 0.5388\n",
      "Epoch 10/200\n",
      "\u001b[1m139/139\u001b[0m \u001b[32m━━━━━━━━━━━━━━━━━━━━\u001b[0m\u001b[37m\u001b[0m \u001b[1m0s\u001b[0m 2ms/step - accuracy: 0.8038 - loss: 0.4211 "
     ]
    },
    {
     "name": "stderr",
     "output_type": "stream",
     "text": [
      "WARNING:absl:You are saving your model as an HDF5 file via `model.save()` or `keras.saving.save_model(model)`. This file format is considered legacy. We recommend using instead the native Keras format, e.g. `model.save('my_model.keras')` or `keras.saving.save_model(model, 'my_model.keras')`. \n"
     ]
    },
    {
     "name": "stdout",
     "output_type": "stream",
     "text": [
      "\u001b[1m139/139\u001b[0m \u001b[32m━━━━━━━━━━━━━━━━━━━━\u001b[0m\u001b[37m\u001b[0m \u001b[1m0s\u001b[0m 3ms/step - accuracy: 0.8037 - loss: 0.4212 - val_accuracy: 0.7678 - val_loss: 0.5149\n",
      "Epoch 11/200\n",
      "\u001b[1m139/139\u001b[0m \u001b[32m━━━━━━━━━━━━━━━━━━━━\u001b[0m\u001b[37m\u001b[0m \u001b[1m0s\u001b[0m 2ms/step - accuracy: 0.7990 - loss: 0.4219 - val_accuracy: 0.7516 - val_loss: 0.5490\n",
      "Epoch 12/200\n",
      "\u001b[1m139/139\u001b[0m \u001b[32m━━━━━━━━━━━━━━━━━━━━\u001b[0m\u001b[37m\u001b[0m \u001b[1m0s\u001b[0m 2ms/step - accuracy: 0.8197 - loss: 0.4084 - val_accuracy: 0.7579 - val_loss: 0.5282\n",
      "Epoch 13/200\n",
      "\u001b[1m139/139\u001b[0m \u001b[32m━━━━━━━━━━━━━━━━━━━━\u001b[0m\u001b[37m\u001b[0m \u001b[1m0s\u001b[0m 2ms/step - accuracy: 0.8188 - loss: 0.4037 - val_accuracy: 0.7516 - val_loss: 0.5595\n",
      "Epoch 14/200\n",
      "\u001b[1m139/139\u001b[0m \u001b[32m━━━━━━━━━━━━━━━━━━━━\u001b[0m\u001b[37m\u001b[0m \u001b[1m0s\u001b[0m 2ms/step - accuracy: 0.8129 - loss: 0.4033 - val_accuracy: 0.7516 - val_loss: 0.5451\n",
      "Epoch 15/200\n",
      "\u001b[1m139/139\u001b[0m \u001b[32m━━━━━━━━━━━━━━━━━━━━\u001b[0m\u001b[37m\u001b[0m \u001b[1m0s\u001b[0m 2ms/step - accuracy: 0.8348 - loss: 0.3725 - val_accuracy: 0.7534 - val_loss: 0.5267\n",
      "Epoch 16/200\n",
      "\u001b[1m139/139\u001b[0m \u001b[32m━━━━━━━━━━━━━━━━━━━━\u001b[0m\u001b[37m\u001b[0m \u001b[1m0s\u001b[0m 2ms/step - accuracy: 0.8433 - loss: 0.3548 - val_accuracy: 0.7579 - val_loss: 0.5443\n",
      "Epoch 17/200\n",
      "\u001b[1m139/139\u001b[0m \u001b[32m━━━━━━━━━━━━━━━━━━━━\u001b[0m\u001b[37m\u001b[0m \u001b[1m0s\u001b[0m 2ms/step - accuracy: 0.8589 - loss: 0.3341 - val_accuracy: 0.7669 - val_loss: 0.5680\n",
      "Epoch 18/200\n",
      "\u001b[1m139/139\u001b[0m \u001b[32m━━━━━━━━━━━━━━━━━━━━\u001b[0m\u001b[37m\u001b[0m \u001b[1m0s\u001b[0m 2ms/step - accuracy: 0.8595 - loss: 0.3303 - val_accuracy: 0.7642 - val_loss: 0.5683\n",
      "Epoch 19/200\n",
      "\u001b[1m139/139\u001b[0m \u001b[32m━━━━━━━━━━━━━━━━━━━━\u001b[0m\u001b[37m\u001b[0m \u001b[1m0s\u001b[0m 2ms/step - accuracy: 0.8676 - loss: 0.3166 - val_accuracy: 0.7687 - val_loss: 0.5246\n",
      "Epoch 20/200\n",
      "\u001b[1m139/139\u001b[0m \u001b[32m━━━━━━━━━━━━━━━━━━━━\u001b[0m\u001b[37m\u001b[0m \u001b[1m0s\u001b[0m 2ms/step - accuracy: 0.8506 - loss: 0.3321 - val_accuracy: 0.7687 - val_loss: 0.5601\n",
      "\u001b[1m35/35\u001b[0m \u001b[32m━━━━━━━━━━━━━━━━━━━━\u001b[0m\u001b[37m\u001b[0m \u001b[1m0s\u001b[0m 8ms/step  \n",
      "\n",
      "📂 Fold 3/5\n"
     ]
    },
    {
     "name": "stderr",
     "output_type": "stream",
     "text": [
      "2025-05-29 10:36:23.897230: I external/local_xla/xla/stream_executor/cuda/cuda_asm_compiler.cc:393] ptxas warning : Registers are spilled to local memory in function 'gemm_fusion_dot_413', 12 bytes spill stores, 12 bytes spill loads\n",
      "\n",
      "2025-05-29 10:36:23.914195: I external/local_xla/xla/stream_executor/cuda/cuda_asm_compiler.cc:393] ptxas warning : Registers are spilled to local memory in function 'gemm_fusion_dot_413', 32 bytes spill stores, 32 bytes spill loads\n",
      "\n",
      "2025-05-29 10:36:23.999592: I external/local_xla/xla/stream_executor/cuda/cuda_asm_compiler.cc:393] ptxas warning : Registers are spilled to local memory in function 'gemm_fusion_dot_413', 200 bytes spill stores, 200 bytes spill loads\n",
      "\n",
      "2025-05-29 10:36:24.092765: I external/local_xla/xla/stream_executor/cuda/cuda_asm_compiler.cc:393] ptxas warning : Registers are spilled to local memory in function 'gemm_fusion_dot_570', 92 bytes spill stores, 92 bytes spill loads\n",
      "\n",
      "2025-05-29 10:36:24.252618: I external/local_xla/xla/stream_executor/cuda/cuda_asm_compiler.cc:393] ptxas warning : Registers are spilled to local memory in function 'gemm_fusion_dot_413', 80 bytes spill stores, 80 bytes spill loads\n",
      "\n",
      "2025-05-29 10:36:24.320559: I external/local_xla/xla/stream_executor/cuda/cuda_asm_compiler.cc:393] ptxas warning : Registers are spilled to local memory in function 'gemm_fusion_dot_584', 24 bytes spill stores, 24 bytes spill loads\n",
      "\n",
      "2025-05-29 10:36:24.428137: I external/local_xla/xla/stream_executor/cuda/cuda_asm_compiler.cc:393] ptxas warning : Registers are spilled to local memory in function 'gemm_fusion_dot_570', 16 bytes spill stores, 16 bytes spill loads\n",
      "\n",
      "2025-05-29 10:36:24.473781: I external/local_xla/xla/stream_executor/cuda/cuda_asm_compiler.cc:393] ptxas warning : Registers are spilled to local memory in function 'gemm_fusion_dot_570', 348 bytes spill stores, 348 bytes spill loads\n",
      "\n",
      "2025-05-29 10:36:24.514739: I external/local_xla/xla/stream_executor/cuda/cuda_asm_compiler.cc:393] ptxas warning : Registers are spilled to local memory in function 'gemm_fusion_dot_570', 104 bytes spill stores, 104 bytes spill loads\n",
      "\n",
      "2025-05-29 10:36:24.544835: I external/local_xla/xla/stream_executor/cuda/cuda_asm_compiler.cc:393] ptxas warning : Registers are spilled to local memory in function 'gemm_fusion_dot_584', 32 bytes spill stores, 32 bytes spill loads\n",
      "\n",
      "2025-05-29 10:37:40.597101: I external/local_xla/xla/stream_executor/cuda/cuda_asm_compiler.cc:393] ptxas warning : Registers are spilled to local memory in function 'gemm_fusion_dot_584', 32 bytes spill stores, 32 bytes spill loads\n",
      "\n",
      "2025-05-29 10:37:40.676009: I external/local_xla/xla/stream_executor/cuda/cuda_asm_compiler.cc:393] ptxas warning : Registers are spilled to local memory in function 'gemm_fusion_dot_570', 100 bytes spill stores, 100 bytes spill loads\n",
      "\n",
      "2025-05-29 10:37:40.679780: I external/local_xla/xla/stream_executor/cuda/cuda_asm_compiler.cc:393] ptxas warning : Registers are spilled to local memory in function 'gemm_fusion_dot_570', 412 bytes spill stores, 440 bytes spill loads\n",
      "\n",
      "2025-05-29 10:37:40.791870: I external/local_xla/xla/stream_executor/cuda/cuda_asm_compiler.cc:393] ptxas warning : Registers are spilled to local memory in function 'gemm_fusion_dot_570', 16 bytes spill stores, 16 bytes spill loads\n",
      "\n",
      "2025-05-29 10:37:40.844988: I external/local_xla/xla/stream_executor/cuda/cuda_asm_compiler.cc:393] ptxas warning : Registers are spilled to local memory in function 'gemm_fusion_dot_570', 336 bytes spill stores, 336 bytes spill loads\n",
      "\n",
      "2025-05-29 10:37:40.928314: I external/local_xla/xla/stream_executor/cuda/cuda_asm_compiler.cc:393] ptxas warning : Registers are spilled to local memory in function 'gemm_fusion_dot_584', 24 bytes spill stores, 24 bytes spill loads\n",
      "\n",
      "2025-05-29 10:38:34.532982: I external/local_xla/xla/stream_executor/cuda/cuda_asm_compiler.cc:393] ptxas warning : Registers are spilled to local memory in function 'gemm_fusion_dot_584', 32 bytes spill stores, 32 bytes spill loads\n",
      "\n",
      "2025-05-29 10:38:34.731882: I external/local_xla/xla/stream_executor/cuda/cuda_asm_compiler.cc:393] ptxas warning : Registers are spilled to local memory in function 'gemm_fusion_dot_584', 24 bytes spill stores, 24 bytes spill loads\n",
      "\n"
     ]
    },
    {
     "name": "stdout",
     "output_type": "stream",
     "text": [
      "Epoch 1/200\n",
      "\u001b[1m139/139\u001b[0m \u001b[32m━━━━━━━━━━━━━━━━━━━━\u001b[0m\u001b[37m\u001b[0m \u001b[1m0s\u001b[0m 18ms/step - accuracy: 0.5250 - loss: 0.8668"
     ]
    },
    {
     "name": "stderr",
     "output_type": "stream",
     "text": [
      "WARNING:absl:You are saving your model as an HDF5 file via `model.save()` or `keras.saving.save_model(model)`. This file format is considered legacy. We recommend using instead the native Keras format, e.g. `model.save('my_model.keras')` or `keras.saving.save_model(model, 'my_model.keras')`. \n"
     ]
    },
    {
     "name": "stdout",
     "output_type": "stream",
     "text": [
      "\u001b[1m139/139\u001b[0m \u001b[32m━━━━━━━━━━━━━━━━━━━━\u001b[0m\u001b[37m\u001b[0m \u001b[1m6s\u001b[0m 24ms/step - accuracy: 0.5252 - loss: 0.8665 - val_accuracy: 0.5018 - val_loss: 0.7353\n",
      "Epoch 2/200\n",
      "\u001b[1m139/139\u001b[0m \u001b[32m━━━━━━━━━━━━━━━━━━━━\u001b[0m\u001b[37m\u001b[0m \u001b[1m0s\u001b[0m 2ms/step - accuracy: 0.5934 - loss: 0.7518 - val_accuracy: 0.5189 - val_loss: 0.7387\n",
      "Epoch 3/200\n",
      "\u001b[1m118/139\u001b[0m \u001b[32m━━━━━━━━━━━━━━━━\u001b[0m\u001b[37m━━━━\u001b[0m \u001b[1m0s\u001b[0m 2ms/step - accuracy: 0.6581 - loss: 0.6652 "
     ]
    },
    {
     "name": "stderr",
     "output_type": "stream",
     "text": [
      "WARNING:absl:You are saving your model as an HDF5 file via `model.save()` or `keras.saving.save_model(model)`. This file format is considered legacy. We recommend using instead the native Keras format, e.g. `model.save('my_model.keras')` or `keras.saving.save_model(model, 'my_model.keras')`. \n"
     ]
    },
    {
     "name": "stdout",
     "output_type": "stream",
     "text": [
      "\u001b[1m139/139\u001b[0m \u001b[32m━━━━━━━━━━━━━━━━━━━━\u001b[0m\u001b[37m\u001b[0m \u001b[1m0s\u001b[0m 3ms/step - accuracy: 0.6593 - loss: 0.6618 - val_accuracy: 0.6189 - val_loss: 0.6440\n",
      "Epoch 4/200\n",
      "\u001b[1m116/139\u001b[0m \u001b[32m━━━━━━━━━━━━━━━━\u001b[0m\u001b[37m━━━━\u001b[0m \u001b[1m0s\u001b[0m 2ms/step - accuracy: 0.7048 - loss: 0.5942 "
     ]
    },
    {
     "name": "stderr",
     "output_type": "stream",
     "text": [
      "WARNING:absl:You are saving your model as an HDF5 file via `model.save()` or `keras.saving.save_model(model)`. This file format is considered legacy. We recommend using instead the native Keras format, e.g. `model.save('my_model.keras')` or `keras.saving.save_model(model, 'my_model.keras')`. \n"
     ]
    },
    {
     "name": "stdout",
     "output_type": "stream",
     "text": [
      "\u001b[1m139/139\u001b[0m \u001b[32m━━━━━━━━━━━━━━━━━━━━\u001b[0m\u001b[37m\u001b[0m \u001b[1m0s\u001b[0m 3ms/step - accuracy: 0.7051 - loss: 0.5950 - val_accuracy: 0.7045 - val_loss: 0.5557\n",
      "Epoch 5/200\n",
      "\u001b[1m123/139\u001b[0m \u001b[32m━━━━━━━━━━━━━━━━━\u001b[0m\u001b[37m━━━\u001b[0m \u001b[1m0s\u001b[0m 2ms/step - accuracy: 0.7217 - loss: 0.5589 "
     ]
    },
    {
     "name": "stderr",
     "output_type": "stream",
     "text": [
      "WARNING:absl:You are saving your model as an HDF5 file via `model.save()` or `keras.saving.save_model(model)`. This file format is considered legacy. We recommend using instead the native Keras format, e.g. `model.save('my_model.keras')` or `keras.saving.save_model(model, 'my_model.keras')`. \n"
     ]
    },
    {
     "name": "stdout",
     "output_type": "stream",
     "text": [
      "\u001b[1m139/139\u001b[0m \u001b[32m━━━━━━━━━━━━━━━━━━━━\u001b[0m\u001b[37m\u001b[0m \u001b[1m0s\u001b[0m 3ms/step - accuracy: 0.7221 - loss: 0.5581 - val_accuracy: 0.7135 - val_loss: 0.5463\n",
      "Epoch 6/200\n",
      "\u001b[1m139/139\u001b[0m \u001b[32m━━━━━━━━━━━━━━━━━━━━\u001b[0m\u001b[37m\u001b[0m \u001b[1m0s\u001b[0m 2ms/step - accuracy: 0.7580 - loss: 0.5141 "
     ]
    },
    {
     "name": "stderr",
     "output_type": "stream",
     "text": [
      "WARNING:absl:You are saving your model as an HDF5 file via `model.save()` or `keras.saving.save_model(model)`. This file format is considered legacy. We recommend using instead the native Keras format, e.g. `model.save('my_model.keras')` or `keras.saving.save_model(model, 'my_model.keras')`. \n"
     ]
    },
    {
     "name": "stdout",
     "output_type": "stream",
     "text": [
      "\u001b[1m139/139\u001b[0m \u001b[32m━━━━━━━━━━━━━━━━━━━━\u001b[0m\u001b[37m\u001b[0m \u001b[1m0s\u001b[0m 3ms/step - accuracy: 0.7579 - loss: 0.5142 - val_accuracy: 0.7297 - val_loss: 0.5297\n",
      "Epoch 7/200\n",
      "\u001b[1m118/139\u001b[0m \u001b[32m━━━━━━━━━━━━━━━━\u001b[0m\u001b[37m━━━━\u001b[0m \u001b[1m0s\u001b[0m 2ms/step - accuracy: 0.7666 - loss: 0.4794 "
     ]
    },
    {
     "name": "stderr",
     "output_type": "stream",
     "text": [
      "WARNING:absl:You are saving your model as an HDF5 file via `model.save()` or `keras.saving.save_model(model)`. This file format is considered legacy. We recommend using instead the native Keras format, e.g. `model.save('my_model.keras')` or `keras.saving.save_model(model, 'my_model.keras')`. \n"
     ]
    },
    {
     "name": "stdout",
     "output_type": "stream",
     "text": [
      "\u001b[1m139/139\u001b[0m \u001b[32m━━━━━━━━━━━━━━━━━━━━\u001b[0m\u001b[37m\u001b[0m \u001b[1m0s\u001b[0m 3ms/step - accuracy: 0.7666 - loss: 0.4807 - val_accuracy: 0.7360 - val_loss: 0.5284\n",
      "Epoch 8/200\n",
      "\u001b[1m119/139\u001b[0m \u001b[32m━━━━━━━━━━━━━━━━━\u001b[0m\u001b[37m━━━\u001b[0m \u001b[1m0s\u001b[0m 2ms/step - accuracy: 0.7765 - loss: 0.4757 "
     ]
    },
    {
     "name": "stderr",
     "output_type": "stream",
     "text": [
      "WARNING:absl:You are saving your model as an HDF5 file via `model.save()` or `keras.saving.save_model(model)`. This file format is considered legacy. We recommend using instead the native Keras format, e.g. `model.save('my_model.keras')` or `keras.saving.save_model(model, 'my_model.keras')`. \n"
     ]
    },
    {
     "name": "stdout",
     "output_type": "stream",
     "text": [
      "\u001b[1m139/139\u001b[0m \u001b[32m━━━━━━━━━━━━━━━━━━━━\u001b[0m\u001b[37m\u001b[0m \u001b[1m0s\u001b[0m 3ms/step - accuracy: 0.7766 - loss: 0.4761 - val_accuracy: 0.7468 - val_loss: 0.5182\n",
      "Epoch 9/200\n",
      "\u001b[1m123/139\u001b[0m \u001b[32m━━━━━━━━━━━━━━━━━\u001b[0m\u001b[37m━━━\u001b[0m \u001b[1m0s\u001b[0m 2ms/step - accuracy: 0.7877 - loss: 0.4508 "
     ]
    },
    {
     "name": "stderr",
     "output_type": "stream",
     "text": [
      "WARNING:absl:You are saving your model as an HDF5 file via `model.save()` or `keras.saving.save_model(model)`. This file format is considered legacy. We recommend using instead the native Keras format, e.g. `model.save('my_model.keras')` or `keras.saving.save_model(model, 'my_model.keras')`. \n"
     ]
    },
    {
     "name": "stdout",
     "output_type": "stream",
     "text": [
      "\u001b[1m139/139\u001b[0m \u001b[32m━━━━━━━━━━━━━━━━━━━━\u001b[0m\u001b[37m\u001b[0m \u001b[1m0s\u001b[0m 3ms/step - accuracy: 0.7875 - loss: 0.4511 - val_accuracy: 0.7595 - val_loss: 0.5001\n",
      "Epoch 10/200\n",
      "\u001b[1m139/139\u001b[0m \u001b[32m━━━━━━━━━━━━━━━━━━━━\u001b[0m\u001b[37m\u001b[0m \u001b[1m0s\u001b[0m 2ms/step - accuracy: 0.7900 - loss: 0.4466 - val_accuracy: 0.7604 - val_loss: 0.5198\n",
      "Epoch 11/200\n",
      "\u001b[1m139/139\u001b[0m \u001b[32m━━━━━━━━━━━━━━━━━━━━\u001b[0m\u001b[37m\u001b[0m \u001b[1m0s\u001b[0m 2ms/step - accuracy: 0.8190 - loss: 0.4140 - val_accuracy: 0.7450 - val_loss: 0.5185\n",
      "Epoch 12/200\n",
      "\u001b[1m139/139\u001b[0m \u001b[32m━━━━━━━━━━━━━━━━━━━━\u001b[0m\u001b[37m\u001b[0m \u001b[1m0s\u001b[0m 2ms/step - accuracy: 0.8096 - loss: 0.4154 - val_accuracy: 0.7342 - val_loss: 0.5501\n",
      "Epoch 13/200\n",
      "\u001b[1m139/139\u001b[0m \u001b[32m━━━━━━━━━━━━━━━━━━━━\u001b[0m\u001b[37m\u001b[0m \u001b[1m0s\u001b[0m 2ms/step - accuracy: 0.8147 - loss: 0.3932 - val_accuracy: 0.7568 - val_loss: 0.5171\n",
      "Epoch 14/200\n",
      "\u001b[1m139/139\u001b[0m \u001b[32m━━━━━━━━━━━━━━━━━━━━\u001b[0m\u001b[37m\u001b[0m \u001b[1m0s\u001b[0m 2ms/step - accuracy: 0.8385 - loss: 0.3756 - val_accuracy: 0.7486 - val_loss: 0.5578\n",
      "Epoch 15/200\n",
      "\u001b[1m139/139\u001b[0m \u001b[32m━━━━━━━━━━━━━━━━━━━━\u001b[0m\u001b[37m\u001b[0m \u001b[1m0s\u001b[0m 2ms/step - accuracy: 0.8408 - loss: 0.3643 - val_accuracy: 0.7495 - val_loss: 0.5545\n",
      "Epoch 16/200\n",
      "\u001b[1m139/139\u001b[0m \u001b[32m━━━━━━━━━━━━━━━━━━━━\u001b[0m\u001b[37m\u001b[0m \u001b[1m0s\u001b[0m 2ms/step - accuracy: 0.8405 - loss: 0.3685 - val_accuracy: 0.7586 - val_loss: 0.5350\n",
      "Epoch 17/200\n",
      "\u001b[1m139/139\u001b[0m \u001b[32m━━━━━━━━━━━━━━━━━━━━\u001b[0m\u001b[37m\u001b[0m \u001b[1m0s\u001b[0m 2ms/step - accuracy: 0.8501 - loss: 0.3395 - val_accuracy: 0.7441 - val_loss: 0.5888\n",
      "Epoch 18/200\n",
      "\u001b[1m139/139\u001b[0m \u001b[32m━━━━━━━━━━━━━━━━━━━━\u001b[0m\u001b[37m\u001b[0m \u001b[1m0s\u001b[0m 2ms/step - accuracy: 0.8461 - loss: 0.3515 - val_accuracy: 0.7450 - val_loss: 0.5789\n",
      "Epoch 19/200\n",
      "\u001b[1m139/139\u001b[0m \u001b[32m━━━━━━━━━━━━━━━━━━━━\u001b[0m\u001b[37m\u001b[0m \u001b[1m0s\u001b[0m 2ms/step - accuracy: 0.8705 - loss: 0.3220 - val_accuracy: 0.7577 - val_loss: 0.5567\n",
      "\u001b[1m35/35\u001b[0m \u001b[32m━━━━━━━━━━━━━━━━━━━━\u001b[0m\u001b[37m\u001b[0m \u001b[1m0s\u001b[0m 9ms/step  \n",
      "\n",
      "📂 Fold 4/5\n",
      "Epoch 1/200\n",
      "\u001b[1m139/139\u001b[0m \u001b[32m━━━━━━━━━━━━━━━━━━━━\u001b[0m\u001b[37m\u001b[0m \u001b[1m0s\u001b[0m 17ms/step - accuracy: 0.5486 - loss: 0.8502"
     ]
    },
    {
     "name": "stderr",
     "output_type": "stream",
     "text": [
      "WARNING:absl:You are saving your model as an HDF5 file via `model.save()` or `keras.saving.save_model(model)`. This file format is considered legacy. We recommend using instead the native Keras format, e.g. `model.save('my_model.keras')` or `keras.saving.save_model(model, 'my_model.keras')`. \n"
     ]
    },
    {
     "name": "stdout",
     "output_type": "stream",
     "text": [
      "\u001b[1m139/139\u001b[0m \u001b[32m━━━━━━━━━━━━━━━━━━━━\u001b[0m\u001b[37m\u001b[0m \u001b[1m6s\u001b[0m 22ms/step - accuracy: 0.5487 - loss: 0.8501 - val_accuracy: 0.5162 - val_loss: 0.7020\n",
      "Epoch 2/200\n",
      "\u001b[1m139/139\u001b[0m \u001b[32m━━━━━━━━━━━━━━━━━━━━\u001b[0m\u001b[37m\u001b[0m \u001b[1m0s\u001b[0m 2ms/step - accuracy: 0.5912 - loss: 0.7673 - val_accuracy: 0.5216 - val_loss: 0.7373\n",
      "Epoch 3/200\n",
      "\u001b[1m121/139\u001b[0m \u001b[32m━━━━━━━━━━━━━━━━━\u001b[0m\u001b[37m━━━\u001b[0m \u001b[1m0s\u001b[0m 2ms/step - accuracy: 0.6432 - loss: 0.6887 "
     ]
    },
    {
     "name": "stderr",
     "output_type": "stream",
     "text": [
      "WARNING:absl:You are saving your model as an HDF5 file via `model.save()` or `keras.saving.save_model(model)`. This file format is considered legacy. We recommend using instead the native Keras format, e.g. `model.save('my_model.keras')` or `keras.saving.save_model(model, 'my_model.keras')`. \n"
     ]
    },
    {
     "name": "stdout",
     "output_type": "stream",
     "text": [
      "\u001b[1m139/139\u001b[0m \u001b[32m━━━━━━━━━━━━━━━━━━━━\u001b[0m\u001b[37m\u001b[0m \u001b[1m0s\u001b[0m 3ms/step - accuracy: 0.6434 - loss: 0.6871 - val_accuracy: 0.5991 - val_loss: 0.6726\n",
      "Epoch 4/200\n",
      "\u001b[1m135/139\u001b[0m \u001b[32m━━━━━━━━━━━━━━━━━━━\u001b[0m\u001b[37m━\u001b[0m \u001b[1m0s\u001b[0m 2ms/step - accuracy: 0.6867 - loss: 0.6238 "
     ]
    },
    {
     "name": "stderr",
     "output_type": "stream",
     "text": [
      "WARNING:absl:You are saving your model as an HDF5 file via `model.save()` or `keras.saving.save_model(model)`. This file format is considered legacy. We recommend using instead the native Keras format, e.g. `model.save('my_model.keras')` or `keras.saving.save_model(model, 'my_model.keras')`. \n"
     ]
    },
    {
     "name": "stdout",
     "output_type": "stream",
     "text": [
      "\u001b[1m139/139\u001b[0m \u001b[32m━━━━━━━━━━━━━━━━━━━━\u001b[0m\u001b[37m\u001b[0m \u001b[1m0s\u001b[0m 3ms/step - accuracy: 0.6860 - loss: 0.6244 - val_accuracy: 0.7261 - val_loss: 0.5346\n",
      "Epoch 5/200\n",
      "\u001b[1m139/139\u001b[0m \u001b[32m━━━━━━━━━━━━━━━━━━━━\u001b[0m\u001b[37m\u001b[0m \u001b[1m0s\u001b[0m 2ms/step - accuracy: 0.7050 - loss: 0.5751 - val_accuracy: 0.7225 - val_loss: 0.5346\n",
      "Epoch 6/200\n",
      "\u001b[1m129/139\u001b[0m \u001b[32m━━━━━━━━━━━━━━━━━━\u001b[0m\u001b[37m━━\u001b[0m \u001b[1m0s\u001b[0m 2ms/step - accuracy: 0.7259 - loss: 0.5518 "
     ]
    },
    {
     "name": "stderr",
     "output_type": "stream",
     "text": [
      "WARNING:absl:You are saving your model as an HDF5 file via `model.save()` or `keras.saving.save_model(model)`. This file format is considered legacy. We recommend using instead the native Keras format, e.g. `model.save('my_model.keras')` or `keras.saving.save_model(model, 'my_model.keras')`. \n"
     ]
    },
    {
     "name": "stdout",
     "output_type": "stream",
     "text": [
      "\u001b[1m139/139\u001b[0m \u001b[32m━━━━━━━━━━━━━━━━━━━━\u001b[0m\u001b[37m\u001b[0m \u001b[1m0s\u001b[0m 3ms/step - accuracy: 0.7257 - loss: 0.5517 - val_accuracy: 0.7649 - val_loss: 0.5036\n",
      "Epoch 7/200\n",
      "\u001b[1m139/139\u001b[0m \u001b[32m━━━━━━━━━━━━━━━━━━━━\u001b[0m\u001b[37m\u001b[0m \u001b[1m0s\u001b[0m 2ms/step - accuracy: 0.7463 - loss: 0.5252 - val_accuracy: 0.7577 - val_loss: 0.5129\n",
      "Epoch 8/200\n",
      "\u001b[1m127/139\u001b[0m \u001b[32m━━━━━━━━━━━━━━━━━━\u001b[0m\u001b[37m━━\u001b[0m \u001b[1m0s\u001b[0m 2ms/step - accuracy: 0.7636 - loss: 0.4903 "
     ]
    },
    {
     "name": "stderr",
     "output_type": "stream",
     "text": [
      "WARNING:absl:You are saving your model as an HDF5 file via `model.save()` or `keras.saving.save_model(model)`. This file format is considered legacy. We recommend using instead the native Keras format, e.g. `model.save('my_model.keras')` or `keras.saving.save_model(model, 'my_model.keras')`. \n"
     ]
    },
    {
     "name": "stdout",
     "output_type": "stream",
     "text": [
      "\u001b[1m139/139\u001b[0m \u001b[32m━━━━━━━━━━━━━━━━━━━━\u001b[0m\u001b[37m\u001b[0m \u001b[1m0s\u001b[0m 3ms/step - accuracy: 0.7636 - loss: 0.4910 - val_accuracy: 0.7649 - val_loss: 0.4867\n",
      "Epoch 9/200\n",
      "\u001b[1m139/139\u001b[0m \u001b[32m━━━━━━━━━━━━━━━━━━━━\u001b[0m\u001b[37m\u001b[0m \u001b[1m0s\u001b[0m 2ms/step - accuracy: 0.7622 - loss: 0.4889 - val_accuracy: 0.7631 - val_loss: 0.4898\n",
      "Epoch 10/200\n",
      "\u001b[1m139/139\u001b[0m \u001b[32m━━━━━━━━━━━━━━━━━━━━\u001b[0m\u001b[37m\u001b[0m \u001b[1m0s\u001b[0m 2ms/step - accuracy: 0.7892 - loss: 0.4530 - val_accuracy: 0.7658 - val_loss: 0.4914\n",
      "Epoch 11/200\n",
      "\u001b[1m124/139\u001b[0m \u001b[32m━━━━━━━━━━━━━━━━━\u001b[0m\u001b[37m━━━\u001b[0m \u001b[1m0s\u001b[0m 2ms/step - accuracy: 0.8166 - loss: 0.4322 "
     ]
    },
    {
     "name": "stderr",
     "output_type": "stream",
     "text": [
      "WARNING:absl:You are saving your model as an HDF5 file via `model.save()` or `keras.saving.save_model(model)`. This file format is considered legacy. We recommend using instead the native Keras format, e.g. `model.save('my_model.keras')` or `keras.saving.save_model(model, 'my_model.keras')`. \n"
     ]
    },
    {
     "name": "stdout",
     "output_type": "stream",
     "text": [
      "\u001b[1m139/139\u001b[0m \u001b[32m━━━━━━━━━━━━━━━━━━━━\u001b[0m\u001b[37m\u001b[0m \u001b[1m0s\u001b[0m 3ms/step - accuracy: 0.8150 - loss: 0.4342 - val_accuracy: 0.7703 - val_loss: 0.4852\n",
      "Epoch 12/200\n",
      "\u001b[1m139/139\u001b[0m \u001b[32m━━━━━━━━━━━━━━━━━━━━\u001b[0m\u001b[37m\u001b[0m \u001b[1m0s\u001b[0m 2ms/step - accuracy: 0.8035 - loss: 0.4355 - val_accuracy: 0.7649 - val_loss: 0.4995\n",
      "Epoch 13/200\n",
      "\u001b[1m123/139\u001b[0m \u001b[32m━━━━━━━━━━━━━━━━━\u001b[0m\u001b[37m━━━\u001b[0m \u001b[1m0s\u001b[0m 2ms/step - accuracy: 0.8080 - loss: 0.4267 "
     ]
    },
    {
     "name": "stderr",
     "output_type": "stream",
     "text": [
      "WARNING:absl:You are saving your model as an HDF5 file via `model.save()` or `keras.saving.save_model(model)`. This file format is considered legacy. We recommend using instead the native Keras format, e.g. `model.save('my_model.keras')` or `keras.saving.save_model(model, 'my_model.keras')`. \n"
     ]
    },
    {
     "name": "stdout",
     "output_type": "stream",
     "text": [
      "\u001b[1m139/139\u001b[0m \u001b[32m━━━━━━━━━━━━━━━━━━━━\u001b[0m\u001b[37m\u001b[0m \u001b[1m0s\u001b[0m 3ms/step - accuracy: 0.8071 - loss: 0.4275 - val_accuracy: 0.7685 - val_loss: 0.4776\n",
      "Epoch 14/200\n",
      "\u001b[1m127/139\u001b[0m \u001b[32m━━━━━━━━━━━━━━━━━━\u001b[0m\u001b[37m━━\u001b[0m \u001b[1m0s\u001b[0m 2ms/step - accuracy: 0.8288 - loss: 0.4002 "
     ]
    },
    {
     "name": "stderr",
     "output_type": "stream",
     "text": [
      "WARNING:absl:You are saving your model as an HDF5 file via `model.save()` or `keras.saving.save_model(model)`. This file format is considered legacy. We recommend using instead the native Keras format, e.g. `model.save('my_model.keras')` or `keras.saving.save_model(model, 'my_model.keras')`. \n"
     ]
    },
    {
     "name": "stdout",
     "output_type": "stream",
     "text": [
      "\u001b[1m139/139\u001b[0m \u001b[32m━━━━━━━━━━━━━━━━━━━━\u001b[0m\u001b[37m\u001b[0m \u001b[1m0s\u001b[0m 3ms/step - accuracy: 0.8280 - loss: 0.4012 - val_accuracy: 0.7928 - val_loss: 0.4555\n",
      "Epoch 15/200\n",
      "\u001b[1m139/139\u001b[0m \u001b[32m━━━━━━━━━━━━━━━━━━━━\u001b[0m\u001b[37m\u001b[0m \u001b[1m0s\u001b[0m 2ms/step - accuracy: 0.8241 - loss: 0.3877 - val_accuracy: 0.7757 - val_loss: 0.4858\n",
      "Epoch 16/200\n",
      "\u001b[1m139/139\u001b[0m \u001b[32m━━━━━━━━━━━━━━━━━━━━\u001b[0m\u001b[37m\u001b[0m \u001b[1m0s\u001b[0m 2ms/step - accuracy: 0.8350 - loss: 0.3613 - val_accuracy: 0.7883 - val_loss: 0.4731\n",
      "Epoch 17/200\n",
      "\u001b[1m139/139\u001b[0m \u001b[32m━━━━━━━━━━━━━━━━━━━━\u001b[0m\u001b[37m\u001b[0m \u001b[1m0s\u001b[0m 2ms/step - accuracy: 0.8376 - loss: 0.3627 - val_accuracy: 0.7739 - val_loss: 0.4897\n",
      "Epoch 18/200\n",
      "\u001b[1m139/139\u001b[0m \u001b[32m━━━━━━━━━━━━━━━━━━━━\u001b[0m\u001b[37m\u001b[0m \u001b[1m0s\u001b[0m 2ms/step - accuracy: 0.8284 - loss: 0.3700 - val_accuracy: 0.7892 - val_loss: 0.4843\n",
      "Epoch 19/200\n",
      "\u001b[1m139/139\u001b[0m \u001b[32m━━━━━━━━━━━━━━━━━━━━\u001b[0m\u001b[37m\u001b[0m \u001b[1m0s\u001b[0m 2ms/step - accuracy: 0.8515 - loss: 0.3380 - val_accuracy: 0.7838 - val_loss: 0.4997\n",
      "Epoch 20/200\n",
      "\u001b[1m139/139\u001b[0m \u001b[32m━━━━━━━━━━━━━━━━━━━━\u001b[0m\u001b[37m\u001b[0m \u001b[1m0s\u001b[0m 2ms/step - accuracy: 0.8448 - loss: 0.3408 - val_accuracy: 0.7964 - val_loss: 0.4944\n",
      "Epoch 21/200\n",
      "\u001b[1m139/139\u001b[0m \u001b[32m━━━━━━━━━━━━━━━━━━━━\u001b[0m\u001b[37m\u001b[0m \u001b[1m0s\u001b[0m 2ms/step - accuracy: 0.8559 - loss: 0.3270 - val_accuracy: 0.7811 - val_loss: 0.5194\n",
      "Epoch 22/200\n",
      "\u001b[1m139/139\u001b[0m \u001b[32m━━━━━━━━━━━━━━━━━━━━\u001b[0m\u001b[37m\u001b[0m \u001b[1m0s\u001b[0m 2ms/step - accuracy: 0.8856 - loss: 0.2871 - val_accuracy: 0.7946 - val_loss: 0.4966\n",
      "Epoch 23/200\n",
      "\u001b[1m139/139\u001b[0m \u001b[32m━━━━━━━━━━━━━━━━━━━━\u001b[0m\u001b[37m\u001b[0m \u001b[1m0s\u001b[0m 2ms/step - accuracy: 0.8642 - loss: 0.3084 - val_accuracy: 0.7775 - val_loss: 0.5101\n",
      "Epoch 24/200\n",
      "\u001b[1m139/139\u001b[0m \u001b[32m━━━━━━━━━━━━━━━━━━━━\u001b[0m\u001b[37m\u001b[0m \u001b[1m0s\u001b[0m 2ms/step - accuracy: 0.8733 - loss: 0.2988 - val_accuracy: 0.7820 - val_loss: 0.5286\n",
      "\u001b[1m35/35\u001b[0m \u001b[32m━━━━━━━━━━━━━━━━━━━━\u001b[0m\u001b[37m\u001b[0m \u001b[1m0s\u001b[0m 7ms/step  \n",
      "\n",
      "📂 Fold 5/5\n",
      "Epoch 1/200\n",
      "\u001b[1m139/139\u001b[0m \u001b[32m━━━━━━━━━━━━━━━━━━━━\u001b[0m\u001b[37m\u001b[0m \u001b[1m0s\u001b[0m 17ms/step - accuracy: 0.5353 - loss: 0.8846"
     ]
    },
    {
     "name": "stderr",
     "output_type": "stream",
     "text": [
      "WARNING:absl:You are saving your model as an HDF5 file via `model.save()` or `keras.saving.save_model(model)`. This file format is considered legacy. We recommend using instead the native Keras format, e.g. `model.save('my_model.keras')` or `keras.saving.save_model(model, 'my_model.keras')`. \n"
     ]
    },
    {
     "name": "stdout",
     "output_type": "stream",
     "text": [
      "\u001b[1m139/139\u001b[0m \u001b[32m━━━━━━━━━━━━━━━━━━━━\u001b[0m\u001b[37m\u001b[0m \u001b[1m6s\u001b[0m 22ms/step - accuracy: 0.5355 - loss: 0.8842 - val_accuracy: 0.5261 - val_loss: 0.7157\n",
      "Epoch 2/200\n",
      "\u001b[1m139/139\u001b[0m \u001b[32m━━━━━━━━━━━━━━━━━━━━\u001b[0m\u001b[37m\u001b[0m \u001b[1m0s\u001b[0m 2ms/step - accuracy: 0.6035 - loss: 0.7426 - val_accuracy: 0.5252 - val_loss: 0.7503\n",
      "Epoch 3/200\n",
      "\u001b[1m116/139\u001b[0m \u001b[32m━━━━━━━━━━━━━━━━\u001b[0m\u001b[37m━━━━\u001b[0m \u001b[1m0s\u001b[0m 2ms/step - accuracy: 0.6259 - loss: 0.6842 "
     ]
    },
    {
     "name": "stderr",
     "output_type": "stream",
     "text": [
      "WARNING:absl:You are saving your model as an HDF5 file via `model.save()` or `keras.saving.save_model(model)`. This file format is considered legacy. We recommend using instead the native Keras format, e.g. `model.save('my_model.keras')` or `keras.saving.save_model(model, 'my_model.keras')`. \n"
     ]
    },
    {
     "name": "stdout",
     "output_type": "stream",
     "text": [
      "\u001b[1m139/139\u001b[0m \u001b[32m━━━━━━━━━━━━━━━━━━━━\u001b[0m\u001b[37m\u001b[0m \u001b[1m0s\u001b[0m 3ms/step - accuracy: 0.6291 - loss: 0.6816 - val_accuracy: 0.6910 - val_loss: 0.5907\n",
      "Epoch 4/200\n",
      "\u001b[1m119/139\u001b[0m \u001b[32m━━━━━━━━━━━━━━━━━\u001b[0m\u001b[37m━━━\u001b[0m \u001b[1m0s\u001b[0m 2ms/step - accuracy: 0.7006 - loss: 0.6117 "
     ]
    },
    {
     "name": "stderr",
     "output_type": "stream",
     "text": [
      "WARNING:absl:You are saving your model as an HDF5 file via `model.save()` or `keras.saving.save_model(model)`. This file format is considered legacy. We recommend using instead the native Keras format, e.g. `model.save('my_model.keras')` or `keras.saving.save_model(model, 'my_model.keras')`. \n"
     ]
    },
    {
     "name": "stdout",
     "output_type": "stream",
     "text": [
      "\u001b[1m139/139\u001b[0m \u001b[32m━━━━━━━━━━━━━━━━━━━━\u001b[0m\u001b[37m\u001b[0m \u001b[1m0s\u001b[0m 3ms/step - accuracy: 0.6990 - loss: 0.6119 - val_accuracy: 0.6883 - val_loss: 0.5536\n",
      "Epoch 5/200\n",
      "\u001b[1m120/139\u001b[0m \u001b[32m━━━━━━━━━━━━━━━━━\u001b[0m\u001b[37m━━━\u001b[0m \u001b[1m0s\u001b[0m 2ms/step - accuracy: 0.7202 - loss: 0.5707 "
     ]
    },
    {
     "name": "stderr",
     "output_type": "stream",
     "text": [
      "WARNING:absl:You are saving your model as an HDF5 file via `model.save()` or `keras.saving.save_model(model)`. This file format is considered legacy. We recommend using instead the native Keras format, e.g. `model.save('my_model.keras')` or `keras.saving.save_model(model, 'my_model.keras')`. \n"
     ]
    },
    {
     "name": "stdout",
     "output_type": "stream",
     "text": [
      "\u001b[1m139/139\u001b[0m \u001b[32m━━━━━━━━━━━━━━━━━━━━\u001b[0m\u001b[37m\u001b[0m \u001b[1m0s\u001b[0m 3ms/step - accuracy: 0.7190 - loss: 0.5710 - val_accuracy: 0.7351 - val_loss: 0.5264\n",
      "Epoch 6/200\n",
      "\u001b[1m121/139\u001b[0m \u001b[32m━━━━━━━━━━━━━━━━━\u001b[0m\u001b[37m━━━\u001b[0m \u001b[1m0s\u001b[0m 2ms/step - accuracy: 0.7404 - loss: 0.5120 "
     ]
    },
    {
     "name": "stderr",
     "output_type": "stream",
     "text": [
      "WARNING:absl:You are saving your model as an HDF5 file via `model.save()` or `keras.saving.save_model(model)`. This file format is considered legacy. We recommend using instead the native Keras format, e.g. `model.save('my_model.keras')` or `keras.saving.save_model(model, 'my_model.keras')`. \n"
     ]
    },
    {
     "name": "stdout",
     "output_type": "stream",
     "text": [
      "\u001b[1m139/139\u001b[0m \u001b[32m━━━━━━━━━━━━━━━━━━━━\u001b[0m\u001b[37m\u001b[0m \u001b[1m0s\u001b[0m 3ms/step - accuracy: 0.7394 - loss: 0.5143 - val_accuracy: 0.7378 - val_loss: 0.5197\n",
      "Epoch 7/200\n",
      "\u001b[1m116/139\u001b[0m \u001b[32m━━━━━━━━━━━━━━━━\u001b[0m\u001b[37m━━━━\u001b[0m \u001b[1m0s\u001b[0m 2ms/step - accuracy: 0.7578 - loss: 0.4832 "
     ]
    },
    {
     "name": "stderr",
     "output_type": "stream",
     "text": [
      "WARNING:absl:You are saving your model as an HDF5 file via `model.save()` or `keras.saving.save_model(model)`. This file format is considered legacy. We recommend using instead the native Keras format, e.g. `model.save('my_model.keras')` or `keras.saving.save_model(model, 'my_model.keras')`. \n"
     ]
    },
    {
     "name": "stdout",
     "output_type": "stream",
     "text": [
      "\u001b[1m139/139\u001b[0m \u001b[32m━━━━━━━━━━━━━━━━━━━━\u001b[0m\u001b[37m\u001b[0m \u001b[1m0s\u001b[0m 3ms/step - accuracy: 0.7565 - loss: 0.4863 - val_accuracy: 0.7459 - val_loss: 0.5143\n",
      "Epoch 8/200\n",
      "\u001b[1m128/139\u001b[0m \u001b[32m━━━━━━━━━━━━━━━━━━\u001b[0m\u001b[37m━━\u001b[0m \u001b[1m0s\u001b[0m 2ms/step - accuracy: 0.7708 - loss: 0.4822 "
     ]
    },
    {
     "name": "stderr",
     "output_type": "stream",
     "text": [
      "WARNING:absl:You are saving your model as an HDF5 file via `model.save()` or `keras.saving.save_model(model)`. This file format is considered legacy. We recommend using instead the native Keras format, e.g. `model.save('my_model.keras')` or `keras.saving.save_model(model, 'my_model.keras')`. \n"
     ]
    },
    {
     "name": "stdout",
     "output_type": "stream",
     "text": [
      "\u001b[1m139/139\u001b[0m \u001b[32m━━━━━━━━━━━━━━━━━━━━\u001b[0m\u001b[37m\u001b[0m \u001b[1m0s\u001b[0m 3ms/step - accuracy: 0.7705 - loss: 0.4831 - val_accuracy: 0.7631 - val_loss: 0.5066\n",
      "Epoch 9/200\n",
      "\u001b[1m139/139\u001b[0m \u001b[32m━━━━━━━━━━━━━━━━━━━━\u001b[0m\u001b[37m\u001b[0m \u001b[1m0s\u001b[0m 2ms/step - accuracy: 0.7919 - loss: 0.4550 - val_accuracy: 0.7477 - val_loss: 0.5107\n",
      "Epoch 10/200\n",
      "\u001b[1m122/139\u001b[0m \u001b[32m━━━━━━━━━━━━━━━━━\u001b[0m\u001b[37m━━━\u001b[0m \u001b[1m0s\u001b[0m 2ms/step - accuracy: 0.7748 - loss: 0.4651 "
     ]
    },
    {
     "name": "stderr",
     "output_type": "stream",
     "text": [
      "WARNING:absl:You are saving your model as an HDF5 file via `model.save()` or `keras.saving.save_model(model)`. This file format is considered legacy. We recommend using instead the native Keras format, e.g. `model.save('my_model.keras')` or `keras.saving.save_model(model, 'my_model.keras')`. \n"
     ]
    },
    {
     "name": "stdout",
     "output_type": "stream",
     "text": [
      "\u001b[1m139/139\u001b[0m \u001b[32m━━━━━━━━━━━━━━━━━━━━\u001b[0m\u001b[37m\u001b[0m \u001b[1m0s\u001b[0m 3ms/step - accuracy: 0.7762 - loss: 0.4636 - val_accuracy: 0.7604 - val_loss: 0.5001\n",
      "Epoch 11/200\n",
      "\u001b[1m126/139\u001b[0m \u001b[32m━━━━━━━━━━━━━━━━━━\u001b[0m\u001b[37m━━\u001b[0m \u001b[1m0s\u001b[0m 2ms/step - accuracy: 0.8035 - loss: 0.4127 "
     ]
    },
    {
     "name": "stderr",
     "output_type": "stream",
     "text": [
      "WARNING:absl:You are saving your model as an HDF5 file via `model.save()` or `keras.saving.save_model(model)`. This file format is considered legacy. We recommend using instead the native Keras format, e.g. `model.save('my_model.keras')` or `keras.saving.save_model(model, 'my_model.keras')`. \n"
     ]
    },
    {
     "name": "stdout",
     "output_type": "stream",
     "text": [
      "\u001b[1m139/139\u001b[0m \u001b[32m━━━━━━━━━━━━━━━━━━━━\u001b[0m\u001b[37m\u001b[0m \u001b[1m0s\u001b[0m 3ms/step - accuracy: 0.8029 - loss: 0.4138 - val_accuracy: 0.7640 - val_loss: 0.4937\n",
      "Epoch 12/200\n",
      "\u001b[1m139/139\u001b[0m \u001b[32m━━━━━━━━━━━━━━━━━━━━\u001b[0m\u001b[37m\u001b[0m \u001b[1m0s\u001b[0m 2ms/step - accuracy: 0.8100 - loss: 0.4256 - val_accuracy: 0.7658 - val_loss: 0.4984\n",
      "Epoch 13/200\n",
      "\u001b[1m139/139\u001b[0m \u001b[32m━━━━━━━━━━━━━━━━━━━━\u001b[0m\u001b[37m\u001b[0m \u001b[1m0s\u001b[0m 2ms/step - accuracy: 0.8068 - loss: 0.4096 - val_accuracy: 0.7712 - val_loss: 0.5001\n",
      "Epoch 14/200\n",
      "\u001b[1m139/139\u001b[0m \u001b[32m━━━━━━━━━━━━━━━━━━━━\u001b[0m\u001b[37m\u001b[0m \u001b[1m0s\u001b[0m 2ms/step - accuracy: 0.8269 - loss: 0.3887 - val_accuracy: 0.7559 - val_loss: 0.5137\n",
      "Epoch 15/200\n",
      "\u001b[1m139/139\u001b[0m \u001b[32m━━━━━━━━━━━━━━━━━━━━\u001b[0m\u001b[37m\u001b[0m \u001b[1m0s\u001b[0m 2ms/step - accuracy: 0.8221 - loss: 0.3895 - val_accuracy: 0.7649 - val_loss: 0.5131\n",
      "Epoch 16/200\n",
      "\u001b[1m139/139\u001b[0m \u001b[32m━━━━━━━━━━━━━━━━━━━━\u001b[0m\u001b[37m\u001b[0m \u001b[1m0s\u001b[0m 2ms/step - accuracy: 0.8292 - loss: 0.3658 - val_accuracy: 0.7640 - val_loss: 0.5058\n",
      "Epoch 17/200\n",
      "\u001b[1m139/139\u001b[0m \u001b[32m━━━━━━━━━━━━━━━━━━━━\u001b[0m\u001b[37m\u001b[0m \u001b[1m0s\u001b[0m 2ms/step - accuracy: 0.8448 - loss: 0.3507 - val_accuracy: 0.7622 - val_loss: 0.5113\n",
      "Epoch 18/200\n",
      "\u001b[1m139/139\u001b[0m \u001b[32m━━━━━━━━━━━━━━━━━━━━\u001b[0m\u001b[37m\u001b[0m \u001b[1m0s\u001b[0m 2ms/step - accuracy: 0.8329 - loss: 0.3695 - val_accuracy: 0.7631 - val_loss: 0.5423\n",
      "Epoch 19/200\n",
      "\u001b[1m139/139\u001b[0m \u001b[32m━━━━━━━━━━━━━━━━━━━━\u001b[0m\u001b[37m\u001b[0m \u001b[1m0s\u001b[0m 2ms/step - accuracy: 0.8536 - loss: 0.3339 - val_accuracy: 0.7685 - val_loss: 0.5153\n",
      "Epoch 20/200\n",
      "\u001b[1m139/139\u001b[0m \u001b[32m━━━━━━━━━━━━━━━━━━━━\u001b[0m\u001b[37m\u001b[0m \u001b[1m0s\u001b[0m 2ms/step - accuracy: 0.8593 - loss: 0.3239 - val_accuracy: 0.7739 - val_loss: 0.5128\n",
      "Epoch 21/200\n",
      "\u001b[1m139/139\u001b[0m \u001b[32m━━━━━━━━━━━━━━━━━━━━\u001b[0m\u001b[37m\u001b[0m \u001b[1m0s\u001b[0m 2ms/step - accuracy: 0.8517 - loss: 0.3336 - val_accuracy: 0.7676 - val_loss: 0.5201\n",
      "\u001b[1m35/35\u001b[0m \u001b[32m━━━━━━━━━━━━━━━━━━━━\u001b[0m\u001b[37m\u001b[0m \u001b[1m0s\u001b[0m 8ms/step  \n",
      "\n",
      "🕒 Total Training Time: 957.81 seconds\n",
      "\n",
      "📄 K-Fold metrics saved.\n"
     ]
    },
    {
     "data": {
      "text/html": [
       "<div>\n",
       "<style scoped>\n",
       "    .dataframe tbody tr th:only-of-type {\n",
       "        vertical-align: middle;\n",
       "    }\n",
       "\n",
       "    .dataframe tbody tr th {\n",
       "        vertical-align: top;\n",
       "    }\n",
       "\n",
       "    .dataframe thead th {\n",
       "        text-align: right;\n",
       "    }\n",
       "</style>\n",
       "<table border=\"1\" class=\"dataframe\">\n",
       "  <thead>\n",
       "    <tr style=\"text-align: right;\">\n",
       "      <th></th>\n",
       "      <th>fold</th>\n",
       "      <th>accuracy</th>\n",
       "      <th>precision</th>\n",
       "      <th>recall</th>\n",
       "      <th>f1_score</th>\n",
       "      <th>auc</th>\n",
       "    </tr>\n",
       "  </thead>\n",
       "  <tbody>\n",
       "    <tr>\n",
       "      <th>0</th>\n",
       "      <td>1.0</td>\n",
       "      <td>0.790279</td>\n",
       "      <td>0.773050</td>\n",
       "      <td>0.805915</td>\n",
       "      <td>0.789140</td>\n",
       "      <td>0.870723</td>\n",
       "    </tr>\n",
       "    <tr>\n",
       "      <th>1</th>\n",
       "      <td>2.0</td>\n",
       "      <td>0.767777</td>\n",
       "      <td>0.764588</td>\n",
       "      <td>0.729367</td>\n",
       "      <td>0.746562</td>\n",
       "      <td>0.828433</td>\n",
       "    </tr>\n",
       "    <tr>\n",
       "      <th>2</th>\n",
       "      <td>3.0</td>\n",
       "      <td>0.759459</td>\n",
       "      <td>0.794715</td>\n",
       "      <td>0.701975</td>\n",
       "      <td>0.745472</td>\n",
       "      <td>0.841306</td>\n",
       "    </tr>\n",
       "    <tr>\n",
       "      <th>3</th>\n",
       "      <td>4.0</td>\n",
       "      <td>0.792793</td>\n",
       "      <td>0.810127</td>\n",
       "      <td>0.781850</td>\n",
       "      <td>0.795737</td>\n",
       "      <td>0.874833</td>\n",
       "    </tr>\n",
       "    <tr>\n",
       "      <th>4</th>\n",
       "      <td>5.0</td>\n",
       "      <td>0.763964</td>\n",
       "      <td>0.813230</td>\n",
       "      <td>0.715753</td>\n",
       "      <td>0.761384</td>\n",
       "      <td>0.853755</td>\n",
       "    </tr>\n",
       "  </tbody>\n",
       "</table>\n",
       "</div>"
      ],
      "text/plain": [
       "   fold  accuracy  precision    recall  f1_score       auc\n",
       "0   1.0  0.790279   0.773050  0.805915  0.789140  0.870723\n",
       "1   2.0  0.767777   0.764588  0.729367  0.746562  0.828433\n",
       "2   3.0  0.759459   0.794715  0.701975  0.745472  0.841306\n",
       "3   4.0  0.792793   0.810127  0.781850  0.795737  0.874833\n",
       "4   5.0  0.763964   0.813230  0.715753  0.761384  0.853755"
      ]
     },
     "execution_count": 10,
     "metadata": {},
     "output_type": "execute_result"
    }
   ],
   "source": [
    "import os\n",
    "import time\n",
    "import numpy as np\n",
    "import pandas as pd\n",
    "import tensorflow as tf\n",
    "from tensorflow.keras.callbacks import EarlyStopping, ModelCheckpoint\n",
    "from sklearn.model_selection import KFold\n",
    "from sklearn.metrics import (\n",
    "    accuracy_score, precision_score, recall_score,\n",
    "    f1_score, roc_auc_score\n",
    ")\n",
    "\n",
    "# ===============================\n",
    "# [4] SET BEST PARAMS (Hasil Grid Search)\n",
    "# ===============================\n",
    "best_params = {\n",
    "    'epochs': 200,\n",
    "    'batch_size': 32,\n",
    "    'lr': 0.001\n",
    "}\n",
    "\n",
    "# ===============================\n",
    "# [5] RETRAINING MODEL – 5-FOLD CV\n",
    "# ===============================\n",
    "output_dir = '/home/g6523023/Percobaan Final/DL/hasil_dnn/Retraining_new/'\n",
    "os.makedirs(output_dir, exist_ok=True)\n",
    "\n",
    "kf = KFold(n_splits=5, shuffle=True, random_state=42)\n",
    "scores = []\n",
    "all_history = []\n",
    "val_idx_list = []\n",
    "\n",
    "start_time = time.time()\n",
    "\n",
    "for fold, (train_idx, val_idx) in enumerate(kf.split(X_train)):\n",
    "    print(f\"\\n📂 Fold {fold+1}/5\")\n",
    "    X_train_fold = X_train.iloc[train_idx]\n",
    "    Y_train_fold = Y_train.iloc[train_idx].astype(np.float32)\n",
    "    X_val_fold = X_train.iloc[val_idx]\n",
    "    Y_val_fold = Y_train.iloc[val_idx].astype(np.float32)\n",
    "    val_idx_list.append(val_idx)\n",
    "\n",
    "    # 🔁 Pretrain SAE\n",
    "    sae_weights = sae_model(\n",
    "        X_train_fold,\n",
    "        epochs=best_params['epochs'],\n",
    "        batch_size=best_params['batch_size'],\n",
    "        lr=best_params['lr']\n",
    "    )\n",
    "\n",
    "    # ✅ Build & Fine-tune DNN\n",
    "    model = dnn_model(\n",
    "        X_train_fold,\n",
    "        n_outputs=1,\n",
    "        sae_weights=sae_weights,\n",
    "        epochs=best_params['epochs'],\n",
    "        batch_size=best_params['batch_size'],\n",
    "        lr=best_params['lr']\n",
    "    )\n",
    "\n",
    "    early_stop = tf.keras.callbacks.EarlyStopping(monitor='val_loss', patience=10, restore_best_weights=True, verbose=0)\n",
    "    model_path = os.path.join(output_dir, f\"model_fold{fold+1}.h5\")\n",
    "    checkpoint = tf.keras.callbacks.ModelCheckpoint(model_path, save_best_only=True, monitor='val_loss')\n",
    "\n",
    "    hist = model.fit(\n",
    "        X_train_fold.values.astype(np.float32), Y_train_fold,\n",
    "        validation_data=(X_val_fold.values.astype(np.float32), Y_val_fold),\n",
    "        epochs=best_params['epochs'],\n",
    "        batch_size=best_params['batch_size'],\n",
    "        callbacks=[early_stop, checkpoint],\n",
    "        verbose=1\n",
    "    )\n",
    "\n",
    "    history_df = pd.DataFrame(hist.history)\n",
    "    history_df['epoch'] = history_df.index\n",
    "    all_history.append(history_df)\n",
    "\n",
    "    Y_pred_probs = model.predict(X_val_fold.values.astype(np.float32)).flatten()\n",
    "    Y_pred = (Y_pred_probs >= 0.5).astype(int)\n",
    "\n",
    "    acc = accuracy_score(Y_val_fold, Y_pred)\n",
    "    prec = precision_score(Y_val_fold, Y_pred)\n",
    "    rec = recall_score(Y_val_fold, Y_pred)\n",
    "    f1 = f1_score(Y_val_fold, Y_pred)\n",
    "    auc = roc_auc_score(Y_val_fold, Y_pred_probs)\n",
    "\n",
    "    scores.append([fold+1, acc, prec, rec, f1, auc])\n",
    "\n",
    "# ===============================\n",
    "# SIMPAN MODEL & METRIK\n",
    "# ===============================\n",
    "total_time = time.time() - start_time\n",
    "print(f\"\\n🕒 Total Training Time: {total_time:.2f} seconds\")\n",
    "\n",
    "scores = np.array(scores)\n",
    "df = pd.DataFrame(scores, columns=['fold', 'accuracy', 'precision', 'recall', 'f1_score', 'auc'])\n",
    "df.to_csv(os.path.join(output_dir, 'kfold_metrics_retrain.csv'), index=False)\n",
    "\n",
    "print(\"\\n📄 K-Fold metrics saved.\")\n",
    "df"
   ]
  },
  {
   "cell_type": "code",
   "execution_count": 11,
   "id": "49e560bf-3131-48c9-9541-7b0dbcf477d9",
   "metadata": {},
   "outputs": [
    {
     "name": "stdout",
     "output_type": "stream",
     "text": [
      "💾 Best model dari fold 4 disimpan sebagai:\n",
      "/home/g6523023/Percobaan Final/DL/hasil_dnn/Retraining_new/best_model_auc_0.8748.h5\n"
     ]
    }
   ],
   "source": [
    "import os\n",
    "import pandas as pd\n",
    "import shutil\n",
    "\n",
    "output_dir = '/home/g6523023/Percobaan Final/DL/hasil_dnn/Retraining_new/'\n",
    "\n",
    "csv_path = os.path.join(output_dir, 'kfold_metrics_retrain.csv')\n",
    "df = pd.read_csv(csv_path)\n",
    "\n",
    "best_auc_idx = df['auc'].idxmax()\n",
    "best_auc = df.loc[best_auc_idx, 'auc']\n",
    "best_fold = int(df.loc[best_auc_idx, 'fold'])\n",
    "\n",
    "src_path = os.path.join(output_dir, f\"model_fold{best_fold}.h5\")\n",
    "dst_path = os.path.join(output_dir, f\"best_model_auc_{best_auc:.4f}.h5\")\n",
    "\n",
    "shutil.copy(src_path, dst_path)\n",
    "\n",
    "print(f\"💾 Best model dari fold {best_fold} disimpan sebagai:\\n{dst_path}\")"
   ]
  },
  {
   "cell_type": "code",
   "execution_count": 12,
   "id": "5dbc8c86-6d32-463f-8cec-8ad77180c01a",
   "metadata": {
    "scrolled": true
   },
   "outputs": [
    {
     "name": "stderr",
     "output_type": "stream",
     "text": [
      "WARNING:absl:Compiled the loaded model, but the compiled metrics have yet to be built. `model.compile_metrics` will be empty until you train or evaluate the model.\n"
     ]
    },
    {
     "name": "stdout",
     "output_type": "stream",
     "text": [
      "\u001b[1m35/35\u001b[0m \u001b[32m━━━━━━━━━━━━━━━━━━━━\u001b[0m\u001b[37m\u001b[0m \u001b[1m0s\u001b[0m 7ms/step  \n"
     ]
    },
    {
     "name": "stderr",
     "output_type": "stream",
     "text": [
      "WARNING:absl:Compiled the loaded model, but the compiled metrics have yet to be built. `model.compile_metrics` will be empty until you train or evaluate the model.\n"
     ]
    },
    {
     "name": "stdout",
     "output_type": "stream",
     "text": [
      "\u001b[1m35/35\u001b[0m \u001b[32m━━━━━━━━━━━━━━━━━━━━\u001b[0m\u001b[37m\u001b[0m \u001b[1m0s\u001b[0m 7ms/step  \n"
     ]
    },
    {
     "name": "stderr",
     "output_type": "stream",
     "text": [
      "WARNING:absl:Compiled the loaded model, but the compiled metrics have yet to be built. `model.compile_metrics` will be empty until you train or evaluate the model.\n"
     ]
    },
    {
     "name": "stdout",
     "output_type": "stream",
     "text": [
      "\u001b[1m35/35\u001b[0m \u001b[32m━━━━━━━━━━━━━━━━━━━━\u001b[0m\u001b[37m\u001b[0m \u001b[1m0s\u001b[0m 7ms/step  \n"
     ]
    },
    {
     "name": "stderr",
     "output_type": "stream",
     "text": [
      "WARNING:absl:Compiled the loaded model, but the compiled metrics have yet to be built. `model.compile_metrics` will be empty until you train or evaluate the model.\n"
     ]
    },
    {
     "name": "stdout",
     "output_type": "stream",
     "text": [
      "\u001b[1m35/35\u001b[0m \u001b[32m━━━━━━━━━━━━━━━━━━━━\u001b[0m\u001b[37m\u001b[0m \u001b[1m0s\u001b[0m 6ms/step  \n"
     ]
    },
    {
     "name": "stderr",
     "output_type": "stream",
     "text": [
      "WARNING:absl:Compiled the loaded model, but the compiled metrics have yet to be built. `model.compile_metrics` will be empty until you train or evaluate the model.\n"
     ]
    },
    {
     "name": "stdout",
     "output_type": "stream",
     "text": [
      "\u001b[1m35/35\u001b[0m \u001b[32m━━━━━━━━━━━━━━━━━━━━\u001b[0m\u001b[37m\u001b[0m \u001b[1m0s\u001b[0m 7ms/step  \n"
     ]
    },
    {
     "data": {
      "image/png": "[encoded data removed]",
      "text/plain": [
       "<Figure size 800x600 with 1 Axes>"
      ]
     },
     "metadata": {},
     "output_type": "display_data"
    },
    {
     "name": "stderr",
     "output_type": "stream",
     "text": [
      "WARNING:absl:Compiled the loaded model, but the compiled metrics have yet to be built. `model.compile_metrics` will be empty until you train or evaluate the model.\n"
     ]
    },
    {
     "name": "stdout",
     "output_type": "stream",
     "text": [
      "\u001b[1m35/35\u001b[0m \u001b[32m━━━━━━━━━━━━━━━━━━━━\u001b[0m\u001b[37m\u001b[0m \u001b[1m0s\u001b[0m 7ms/step  \n"
     ]
    },
    {
     "name": "stderr",
     "output_type": "stream",
     "text": [
      "WARNING:absl:Compiled the loaded model, but the compiled metrics have yet to be built. `model.compile_metrics` will be empty until you train or evaluate the model.\n"
     ]
    },
    {
     "name": "stdout",
     "output_type": "stream",
     "text": [
      "\u001b[1m35/35\u001b[0m \u001b[32m━━━━━━━━━━━━━━━━━━━━\u001b[0m\u001b[37m\u001b[0m \u001b[1m0s\u001b[0m 7ms/step  \n"
     ]
    },
    {
     "name": "stderr",
     "output_type": "stream",
     "text": [
      "WARNING:absl:Compiled the loaded model, but the compiled metrics have yet to be built. `model.compile_metrics` will be empty until you train or evaluate the model.\n"
     ]
    },
    {
     "name": "stdout",
     "output_type": "stream",
     "text": [
      "\u001b[1m35/35\u001b[0m \u001b[32m━━━━━━━━━━━━━━━━━━━━\u001b[0m\u001b[37m\u001b[0m \u001b[1m0s\u001b[0m 7ms/step  \n"
     ]
    },
    {
     "name": "stderr",
     "output_type": "stream",
     "text": [
      "WARNING:absl:Compiled the loaded model, but the compiled metrics have yet to be built. `model.compile_metrics` will be empty until you train or evaluate the model.\n"
     ]
    },
    {
     "name": "stdout",
     "output_type": "stream",
     "text": [
      "\u001b[1m35/35\u001b[0m \u001b[32m━━━━━━━━━━━━━━━━━━━━\u001b[0m\u001b[37m\u001b[0m \u001b[1m0s\u001b[0m 7ms/step  \n"
     ]
    },
    {
     "name": "stderr",
     "output_type": "stream",
     "text": [
      "WARNING:absl:Compiled the loaded model, but the compiled metrics have yet to be built. `model.compile_metrics` will be empty until you train or evaluate the model.\n"
     ]
    },
    {
     "name": "stdout",
     "output_type": "stream",
     "text": [
      "\u001b[1m35/35\u001b[0m \u001b[32m━━━━━━━━━━━━━━━━━━━━\u001b[0m\u001b[37m\u001b[0m \u001b[1m0s\u001b[0m 7ms/step  \n"
     ]
    },
    {
     "data": {
      "image/png": "[encoded data removed]",
      "text/plain": [
       "<Figure size 800x600 with 1 Axes>"
      ]
     },
     "metadata": {},
     "output_type": "display_data"
    },
    {
     "data": {
      "image/png": "[encoded data removed]",
      "text/plain": [
       "<Figure size 1200x500 with 2 Axes>"
      ]
     },
     "metadata": {},
     "output_type": "display_data"
    },
    {
     "name": "stdout",
     "output_type": "stream",
     "text": [
      "\n",
      "📊 Mean ± Std Evaluasi 5-Fold:\n",
      "   Metric      Mean ± Std\n",
      "     fold 3.0000 ± 1.5811\n",
      " accuracy 0.7749 ± 0.0155\n",
      "precision 0.7911 ± 0.0218\n",
      "   recall 0.7470 ± 0.0447\n",
      " f1_score 0.7677 ± 0.0236\n",
      "      auc 0.8538 ± 0.0195\n"
     ]
    }
   ],
   "source": [
    "import os\n",
    "import numpy as np\n",
    "import pandas as pd\n",
    "import matplotlib.pyplot as plt\n",
    "from sklearn.metrics import (\n",
    "    roc_curve, auc, precision_recall_curve, average_precision_score\n",
    ")\n",
    "from tensorflow.keras.models import load_model\n",
    "\n",
    "avg_train_loss = []\n",
    "avg_val_loss = []\n",
    "avg_train_acc = []\n",
    "avg_val_acc = []\n",
    "model_template = \"model_fold{}.h5\"\n",
    "all_auc = []\n",
    "all_ap = []\n",
    "\n",
    "# =========================\n",
    "# 📈 ROC Curve per Fold\n",
    "# =========================\n",
    "plt.figure(figsize=(8, 6))\n",
    "for i, val_idx in enumerate(val_idx_list):\n",
    "    X_val_fold = X_train.iloc[val_idx].astype(np.float32)\n",
    "    Y_val_fold = Y_train.iloc[val_idx].astype(np.float32)\n",
    "    model_path = os.path.join(output_dir, model_template.format(i+1))\n",
    "    model = load_model(model_path)\n",
    "    Y_pred_probs = model.predict(X_val_fold).flatten()\n",
    "\n",
    "    fpr, tpr, _ = roc_curve(Y_val_fold, Y_pred_probs)\n",
    "    roc_auc = auc(fpr, tpr)\n",
    "    all_auc.append(roc_auc)\n",
    "    plt.plot(fpr, tpr, label=f'Fold {i+1} (AUC = {roc_auc:.4f})')\n",
    "\n",
    "plt.plot([0, 1], [0, 1], 'k--', label='Random Classifier')\n",
    "plt.title('ROC Curve – 5-Fold CV')\n",
    "plt.xlabel('False Positive Rate')\n",
    "plt.ylabel('True Positive Rate')\n",
    "plt.legend(loc='lower right')\n",
    "plt.grid(True)\n",
    "plt.tight_layout()\n",
    "plt.savefig(os.path.join(output_dir, \"roc_auc_kfold_all.png\"))\n",
    "plt.show()\n",
    "\n",
    "# =========================\n",
    "# 📉 PR Curve per Fold\n",
    "# =========================\n",
    "plt.figure(figsize=(8, 6))\n",
    "for i, val_idx in enumerate(val_idx_list):\n",
    "    X_val_fold = X_train.iloc[val_idx].astype(np.float32)\n",
    "    Y_val_fold = Y_train.iloc[val_idx].astype(np.float32)\n",
    "    model_path = os.path.join(output_dir, model_template.format(i+1))\n",
    "    model = load_model(model_path)\n",
    "    Y_pred_probs = model.predict(X_val_fold).flatten()\n",
    "\n",
    "    precision, recall, _ = precision_recall_curve(Y_val_fold, Y_pred_probs)\n",
    "    ap = average_precision_score(Y_val_fold, Y_pred_probs)\n",
    "    all_ap.append(ap)\n",
    "    plt.plot(recall, precision, label=f'Fold {i+1} (AP = {ap:.4f})')\n",
    "\n",
    "plt.title('Precision-Recall Curve – 5-Fold CV')\n",
    "plt.xlabel('Recall')\n",
    "plt.ylabel('Precision')\n",
    "plt.legend(loc='lower left')\n",
    "plt.grid(True)\n",
    "plt.tight_layout()\n",
    "plt.savefig(os.path.join(output_dir, \"pr_curve_kfold_all.png\"))\n",
    "plt.show()\n",
    "\n",
    "# =============================\n",
    "# 🔢 Rata-rata Loss & Acc\n",
    "# =============================\n",
    "history_df = pd.concat(all_history)\n",
    "mean_metrics = history_df.groupby('epoch')[['loss', 'val_loss', 'accuracy', 'val_accuracy']].mean()\n",
    "avg_train_loss = mean_metrics['loss']\n",
    "avg_val_loss = mean_metrics['val_loss']\n",
    "avg_train_acc = mean_metrics['accuracy']\n",
    "avg_val_acc = mean_metrics['val_accuracy']\n",
    "\n",
    "plt.figure(figsize=(12, 5))\n",
    "\n",
    "plt.subplot(1, 2, 1)\n",
    "plt.plot(avg_train_acc, label='Train Acc')\n",
    "plt.plot(avg_val_acc, label='Val Acc')\n",
    "plt.title('Average Accuracy – 5-Fold CV')\n",
    "plt.xlabel('Epoch')\n",
    "plt.ylabel('Accuracy')\n",
    "plt.legend()\n",
    "plt.grid(True)\n",
    "\n",
    "plt.subplot(1, 2, 2)\n",
    "plt.plot(avg_train_loss, label='Train Loss')\n",
    "plt.plot(avg_val_loss, label='Val Loss')\n",
    "plt.title('Average Loss – 5-Fold CV')\n",
    "plt.xlabel('Epoch')\n",
    "plt.ylabel('Loss')\n",
    "plt.legend()\n",
    "plt.grid(True)\n",
    "\n",
    "plt.tight_layout()\n",
    "plt.savefig(os.path.join(output_dir, \"avg_loss_acc_kfold.png\"))\n",
    "plt.show()\n",
    "\n",
    "df_metrics = pd.DataFrame(scores, columns=['fold', 'accuracy', 'precision', 'recall', 'f1_score', 'auc'])\n",
    "mean_vals = df_metrics.mean(numeric_only=True)\n",
    "std_vals = df_metrics.std(ddof=1, numeric_only=True)\n",
    "\n",
    "summary = pd.DataFrame({\n",
    "    'Metric': mean_vals.index,\n",
    "    'Mean ± Std': [f\"{mean:.4f} ± {std:.4f}\" for mean, std in zip(mean_vals, std_vals)]\n",
    "})\n",
    "\n",
    "print(\"\\n📊 Mean ± Std Evaluasi 5-Fold:\")\n",
    "print(summary.to_string(index=False))"
   ]
  },
  {
   "cell_type": "code",
   "execution_count": 13,
   "id": "05cfa1e8-8577-4b3b-b3b7-eae02a6011a2",
   "metadata": {},
   "outputs": [
    {
     "name": "stderr",
     "output_type": "stream",
     "text": [
      "WARNING:absl:Compiled the loaded model, but the compiled metrics have yet to be built. `model.compile_metrics` will be empty until you train or evaluate the model.\n"
     ]
    },
    {
     "name": "stdout",
     "output_type": "stream",
     "text": [
      "✅ Model loaded from: /home/g6523023/Percobaan Final/DL/hasil_dnn/Retraining_new/best_model_auc_0.8748.h5\n",
      "\u001b[1m44/44\u001b[0m \u001b[32m━━━━━━━━━━━━━━━━━━━━\u001b[0m\u001b[37m\u001b[0m \u001b[1m0s\u001b[0m 7ms/step  \n",
      "\n",
      "📊 Evaluation Metrics on Test Data:\n",
      "Accuracy : 0.7817\n",
      "Precision: 0.7958\n",
      "Recall   : 0.7579\n",
      "F1-Score : 0.7764\n",
      "ROC-AUC  : 0.8626\n",
      "\n",
      "💾 Final test metrics saved to: /home/g6523023/Percobaan Final/DL/hasil_dnn/Retraining_new/Testing/final_test_metrics.csv\n"
     ]
    },
    {
     "data": {
      "image/png": "[encoded data removed]",
      "text/plain": [
       "<Figure size 1200x500 with 2 Axes>"
      ]
     },
     "metadata": {},
     "output_type": "display_data"
    },
    {
     "data": {
      "image/png": "[encoded data removed]",
      "text/plain": [
       "<Figure size 640x480 with 2 Axes>"
      ]
     },
     "metadata": {},
     "output_type": "display_data"
    }
   ],
   "source": [
    "import os\n",
    "import numpy as np\n",
    "import pandas as pd\n",
    "import tensorflow as tf\n",
    "import matplotlib.pyplot as plt\n",
    "from sklearn.metrics import (\n",
    "    accuracy_score, precision_score, recall_score, f1_score,\n",
    "    roc_auc_score, roc_curve, precision_recall_curve, auc\n",
    ")\n",
    "from sklearn.metrics import confusion_matrix, ConfusionMatrixDisplay\n",
    "\n",
    "model_path = '/home/g6523023/Percobaan Final/DL/hasil_dnn/Retraining_new/best_model_auc_0.8748.h5'\n",
    "output_eval_path = '/home/g6523023/Percobaan Final/DL/hasil_dnn/Retraining_new/Testing/final_test_metrics.csv'\n",
    "output_plot_dir = os.path.dirname(output_eval_path)\n",
    "os.makedirs(output_plot_dir, exist_ok=True)\n",
    "\n",
    "model = tf.keras.models.load_model(model_path)\n",
    "print(f\"✅ Model loaded from: {model_path}\")\n",
    "\n",
    "y_test_probs = model.predict(X_test.values.astype(np.float32)).flatten()\n",
    "y_test_preds = (y_test_probs >= 0.5).astype(int)\n",
    "\n",
    "acc = accuracy_score(Y_test, y_test_preds)\n",
    "prec = precision_score(Y_test, y_test_preds)\n",
    "rec = recall_score(Y_test, y_test_preds)\n",
    "f1 = f1_score(Y_test, y_test_preds)\n",
    "auc_roc = roc_auc_score(Y_test, y_test_probs)\n",
    "\n",
    "print(f\"\\n📊 Evaluation Metrics on Test Data:\")\n",
    "print(f\"Accuracy : {acc:.4f}\")\n",
    "print(f\"Precision: {prec:.4f}\")\n",
    "print(f\"Recall   : {rec:.4f}\")\n",
    "print(f\"F1-Score : {f1:.4f}\")\n",
    "print(f\"ROC-AUC  : {auc_roc:.4f}\")\n",
    "\n",
    "results = pd.DataFrame({\n",
    "    'Accuracy': [acc],\n",
    "    'Precision': [prec],\n",
    "    'Recall': [rec],\n",
    "    'F1-Score': [f1],\n",
    "    'ROC-AUC': [auc_roc]\n",
    "})\n",
    "results.to_csv(output_eval_path, index=False)\n",
    "print(f\"\\n💾 Final test metrics saved to: {output_eval_path}\")\n",
    "\n",
    "# ===============================\n",
    "# PLOT ROC & PR CURVE\n",
    "# ===============================\n",
    "fpr, tpr, _ = roc_curve(Y_test, y_test_probs)\n",
    "prec_curve, recall_curve, _ = precision_recall_curve(Y_test, y_test_probs)\n",
    "pr_auc = auc(recall_curve, prec_curve)\n",
    "\n",
    "# ROC Curve\n",
    "plt.figure(figsize=(12, 5))\n",
    "plt.subplot(1, 2, 1)\n",
    "plt.plot(fpr, tpr, label=f\"AUC = {auc_roc:.4f}\")\n",
    "plt.plot([0, 1], [0, 1], linestyle='--', color='gray')\n",
    "plt.xlabel(\"False Positive Rate\")\n",
    "plt.ylabel(\"True Positive Rate\")\n",
    "plt.title(\"ROC Curve\")\n",
    "plt.legend()\n",
    "\n",
    "# PR Curve\n",
    "plt.subplot(1, 2, 2)\n",
    "plt.plot(recall_curve, prec_curve, label=f\"AP = {pr_auc:.4f}\")\n",
    "plt.xlabel(\"Recall\")\n",
    "plt.ylabel(\"Precision\")\n",
    "plt.title(\"Precision-Recall (PR) Curve\")\n",
    "plt.legend()\n",
    "\n",
    "plt.tight_layout()\n",
    "plt.savefig(os.path.join(output_plot_dir, 'final_test_roc_pr_curve.png'))\n",
    "plt.show()\n",
    "\n",
    "# ===============================\n",
    "# CONFUSION MATRIX\n",
    "# ===============================\n",
    "cm = confusion_matrix(Y_test, y_test_preds)\n",
    "disp = ConfusionMatrixDisplay(confusion_matrix=cm)\n",
    "disp.plot(cmap='Blues', values_format='d')\n",
    "plt.title(\"Confusion Matrix – Test Data\")\n",
    "plt.tight_layout()\n",
    "plt.savefig(os.path.join(output_plot_dir, \"final_test_confusion_matrix.png\"))\n",
    "plt.show()"
   ]
  },
  {
   "cell_type": "code",
   "execution_count": null,
   "id": "ed9baeba-5479-4872-8ab0-8ba6c9dc5567",
   "metadata": {},
   "outputs": [],
   "source": []
  }
 ],
 "metadata": {
  "kernelspec": {
   "display_name": "Python [conda env:tf-gpu]",
   "language": "python",
   "name": "conda-env-tf-gpu-py"
  },
  "language_info": {
   "codemirror_mode": {
    "name": "ipython",
    "version": 3
   },
   "file_extension": ".py",
   "mimetype": "text/x-python",
   "name": "python",
   "nbconvert_exporter": "python",
   "pygments_lexer": "ipython3",
   "version": "3.9.18"
  },
  "widgets": {
   "application/vnd.jupyter.widget-state+json": {
    "state": {},
    "version_major": 2,
    "version_minor": 0
   }
  }
 },
 "nbformat": 4,
 "nbformat_minor": 5
}
